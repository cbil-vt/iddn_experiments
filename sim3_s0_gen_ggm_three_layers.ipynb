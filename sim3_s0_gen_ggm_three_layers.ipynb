{
 "cells": [
  {
   "metadata": {},
   "cell_type": "markdown",
   "source": "# GGM simulation with three layers",
   "id": "efa135b1af1c2c7e"
  },
  {
   "metadata": {
    "ExecuteTime": {
     "end_time": "2024-08-22T02:54:30.822294Z",
     "start_time": "2024-08-22T02:54:23.125125Z"
    }
   },
   "cell_type": "code",
   "source": [
    "import numpy as np\n",
    "from datetime import datetime\n",
    "import matplotlib.pyplot as plt\n",
    "from importlib import reload\n",
    "from ddn3 import simulation\n",
    "from ddn3_extra import simulation_r\n",
    "from iddn_paper import sim3_h5op, tool_sys, sim3_network_toy\n"
   ],
   "id": "d0851b2aa5e1e60b",
   "outputs": [],
   "execution_count": 1
  },
  {
   "metadata": {},
   "cell_type": "markdown",
   "source": [
    "## Three layers\n",
    "This is the older version. For the simulation in the paper, use the v2 version in the next section."
   ],
   "id": "dd8204937880de24"
  },
  {
   "metadata": {
    "ExecuteTime": {
     "end_time": "2024-08-22T02:54:42.215223Z",
     "start_time": "2024-08-22T02:54:41.106095Z"
    }
   },
   "cell_type": "code",
   "source": [
    "dat1_lst = []\n",
    "dat2_lst = []\n",
    "con_mat1_lst = []\n",
    "con_mat2_lst = []\n",
    "comm_gt_lst = []\n",
    "diff_gt_lst = []\n",
    "dep_mat_prior_lst = []\n",
    "omega1_lst = []\n",
    "omega2_lst = []\n",
    "\n",
    "n_mrna, n_tf, n_mirna = 50, 50, 50\n",
    "\n",
    "n_conn_tf_mrna, n_conn_mirna_mrna, ratio_diag = 2, 2, 0.8\n",
    "# n_conn_tf_mrna, n_conn_mirna_mrna, ratio_diag = 5, 5, 0.75\n",
    "# n_conn_tf_mrna, n_conn_mirna_mrna, ratio_diag = 8, 8, 0.73  # Showing the benefits of multi-omics\n",
    "\n",
    "layer_count = np.array([n_mrna, n_tf, n_mirna])  # mRNA, TF, miRNA\n",
    "\n",
    "reload(sim3_network_toy)\n",
    "reload(simulation_r)\n",
    "for n in range(2):\n",
    "    print(n)\n",
    "    dat1, dat2, con_mat1, con_mat2, comm_gt, diff_gt, dep_mat_prior, om1, om2 = sim3_network_toy.toy_three_layer(\n",
    "        n_mrna=n_mrna,\n",
    "        n_tf=n_tf,\n",
    "        n_mirna=n_mirna,\n",
    "        n_sample_gen=500,\n",
    "        ratio_diag=ratio_diag,\n",
    "        n_conn_tf_mrna=n_conn_tf_mrna,\n",
    "        n_conn_mirna_mrna=n_conn_mirna_mrna,\n",
    "    )\n",
    "    dat1_lst.append(dat1)\n",
    "    dat2_lst.append(dat2)\n",
    "    con_mat1_lst.append(con_mat1)\n",
    "    con_mat2_lst.append(con_mat2)\n",
    "    comm_gt_lst.append(comm_gt)\n",
    "    diff_gt_lst.append(diff_gt)\n",
    "    dep_mat_prior_lst.append(dep_mat_prior)\n",
    "    omega1_lst.append(om1)\n",
    "    omega2_lst.append(om2)\n",
    "\n",
    "dep_mat_prior = np.array(dep_mat_prior_lst)\n"
   ],
   "id": "dd3ec233846fc33c",
   "outputs": [
    {
     "name": "stdout",
     "output_type": "stream",
     "text": [
      "0\n",
      "Smallest eigen values  0.35292366273161796 0.007064696374069484\n",
      "1\n",
      "Smallest eigen values  0.13107961829398473 0.31871475416001793\n"
     ]
    }
   ],
   "execution_count": 2
  },
  {
   "metadata": {
    "ExecuteTime": {
     "end_time": "2024-08-22T02:54:44.435392Z",
     "start_time": "2024-08-22T02:54:44.431986Z"
    }
   },
   "cell_type": "code",
   "source": [
    "idx = datetime.now().strftime(\"%Y_%m_%d_%H_%M_%S\")\n",
    "print(idx)\n",
    "# idx = np.random.randint(1000000000)"
   ],
   "id": "41424c7265786733",
   "outputs": [
    {
     "name": "stdout",
     "output_type": "stream",
     "text": [
      "2024_08_21_22_54_44\n"
     ]
    }
   ],
   "execution_count": 3
  },
  {
   "metadata": {
    "ExecuteTime": {
     "end_time": "2024-08-22T02:54:47.654523Z",
     "start_time": "2024-08-22T02:54:47.576336Z"
    }
   },
   "cell_type": "code",
   "source": [
    "f_out = f\"sim3_ggm_three_layer_batch_{idx}\"\n",
    "dat_file = tool_sys.get_work_folder() + f\"/experiment_iddn_paper/sim_input/{f_out}.hdf5\"\n",
    "sim3_h5op.make_new_sim_data(\n",
    "    dat_file,\n",
    "    dat1=np.array(dat1_lst),\n",
    "    dat2=np.array(dat2_lst),\n",
    "    con_mat1=np.array(con_mat1_lst),\n",
    "    con_mat2=np.array(con_mat2_lst),\n",
    "    comm_gt=np.array(comm_gt_lst),\n",
    "    diff_gt=np.array(diff_gt_lst),\n",
    "    dep_mat_null=np.ones_like(dep_mat_prior),\n",
    "    dep_mat_prior=dep_mat_prior,\n",
    "    dep_mat_prior_loose=dep_mat_prior,\n",
    "    layer_count=layer_count,\n",
    ")\n",
    "print(f_out)"
   ],
   "id": "2c3c2d011bf3529c",
   "outputs": [
    {
     "name": "stdout",
     "output_type": "stream",
     "text": [
      "sim3_ggm_three_layer_batch_2024_08_21_22_54_44\n"
     ]
    }
   ],
   "execution_count": 4
  },
  {
   "metadata": {},
   "cell_type": "code",
   "source": "",
   "id": "eb1f8e24be3a0821",
   "outputs": [],
   "execution_count": null
  },
  {
   "metadata": {},
   "cell_type": "markdown",
   "source": [
    "## Three layers v2\n",
    "Networks among TFs, more detailed constraints"
   ],
   "id": "422242a19bd326e8"
  },
  {
   "metadata": {
    "ExecuteTime": {
     "end_time": "2024-08-15T17:27:25.458254Z",
     "start_time": "2024-08-15T17:24:48.273584Z"
    }
   },
   "cell_type": "code",
   "source": [
    "reload(sim3_network_toy)\n",
    "\n",
    "dat1_lst = []\n",
    "dat2_lst = []\n",
    "con_mat1_lst = []\n",
    "con_mat2_lst = []\n",
    "comm_gt_lst = []\n",
    "diff_gt_lst = []\n",
    "dep_mat_prior_lst = []\n",
    "omega1_lst = []\n",
    "omega2_lst = []\n",
    "\n",
    "# n_mrna, n_tf, n_mirna = 50, 50, 50\n",
    "\n",
    "# For speed comparison\n",
    "# n_mrna, n_tf, n_mirna = 25, 13, 12\n",
    "# n_mrna, n_tf, n_mirna = 50, 25, 25\n",
    "n_mrna, n_tf, n_mirna = 100, 50, 50\n",
    "# n_mrna, n_tf, n_mirna = 200, 100, 100\n",
    "\n",
    "n_conn_tf_mrna, n_conn_mirna_mrna, ratio_diag = 2, 2, 0.8\n",
    "# n_conn_tf_mrna, n_conn_mirna_mrna, ratio_diag = 5, 5, 0.72\n",
    "\n",
    "layer_count = np.array([n_mrna, n_tf, n_mirna])  # mRNA, TF, miRNA\n",
    "\n",
    "reload(sim3_network_toy)\n",
    "reload(simulation_r)\n",
    "for n in range(50):\n",
    "    print(n)\n",
    "    dat1, dat2, con_mat1, con_mat2, comm_gt, diff_gt, dep_mat_prior, om1, om2 = sim3_network_toy.toy_three_layer_v2(\n",
    "        n_mrna=n_mrna,\n",
    "        n_tf=n_tf,\n",
    "        n_mirna=n_mirna,\n",
    "        # n_sample_gen=2000,\n",
    "        n_sample_gen=500,\n",
    "        ratio_diag=ratio_diag,\n",
    "        n_conn_tf_mrna=n_conn_tf_mrna,\n",
    "        n_conn_mirna_mrna=n_conn_mirna_mrna,\n",
    "    )\n",
    "    dat1_lst.append(dat1)\n",
    "    dat2_lst.append(dat2)\n",
    "    con_mat1_lst.append(con_mat1)\n",
    "    con_mat2_lst.append(con_mat2)\n",
    "    comm_gt_lst.append(comm_gt)\n",
    "    diff_gt_lst.append(diff_gt)\n",
    "    dep_mat_prior_lst.append(dep_mat_prior)\n",
    "    omega1_lst.append(om1)\n",
    "    omega2_lst.append(om2)\n",
    "\n",
    "dep_mat_prior = np.array(dep_mat_prior_lst)\n"
   ],
   "id": "db816b2a0684c44",
   "outputs": [
    {
     "name": "stdout",
     "output_type": "stream",
     "text": [
      "0\n",
      "Smallest eigen values  (-0.11837723337776214+0j) 0.2834449150816196\n",
      "Smallest eigen values  0.42362763912050344 0.351872150132205\n",
      "1\n",
      "Smallest eigen values  (0.03994476213054021+0j) 0.4006498337892226\n",
      "2\n",
      "Smallest eigen values  (0.534970759336634+0j) 0.37908035733851797\n",
      "3\n",
      "Smallest eigen values  0.0049702135507697955 0.2569344301906335\n",
      "4\n",
      "Smallest eigen values  0.10606736328500282 0.26955110818629713\n",
      "5\n",
      "Smallest eigen values  0.023856085841697565 (0.3018179005750703+0j)\n",
      "6\n",
      "Smallest eigen values  0.15992145489498005 0.25724969480259574\n",
      "7\n",
      "Smallest eigen values  0.13794712175634613 0.03048788603380487\n",
      "8\n",
      "Smallest eigen values  0.27460713432601763 0.06565895839019742\n",
      "9\n",
      "Smallest eigen values  (0.42409642738472453+0j) -0.02911873479176747\n",
      "Smallest eigen values  0.21790479552098924 0.05974973613180339\n",
      "10\n",
      "Smallest eigen values  0.007822716104105279 (0.29896961737976113+0j)\n",
      "11\n",
      "Smallest eigen values  0.4140765125469717 0.059094022587302675\n",
      "12\n",
      "Smallest eigen values  0.12334824442470119 -0.011784173297633952\n",
      "Smallest eigen values  0.17110155279458006 0.05400356508328566\n",
      "13\n",
      "Smallest eigen values  0.1282838705273036 0.043776140585210455\n",
      "14\n",
      "Smallest eigen values  0.3128090972130213 0.25474322745530437\n",
      "15\n",
      "Smallest eigen values  0.23729423743588432 (0.16844231019364111+0j)\n",
      "16\n",
      "Smallest eigen values  0.30552022809811896 (0.39487798857233036+0j)\n",
      "17\n",
      "Smallest eigen values  0.06682207711629515 0.20062771675665722\n",
      "18\n",
      "Smallest eigen values  0.3392667853661848 (0.3313350262268626+0j)\n",
      "19\n",
      "Smallest eigen values  0.25966455147697687 0.1612981337943844\n",
      "20\n",
      "Smallest eigen values  0.4967915273076319 0.17661403341449056\n",
      "21\n",
      "Smallest eigen values  -0.0070581191490292905 -0.1515511791943727\n",
      "Smallest eigen values  0.534924192758913 -0.04215740448325622\n",
      "Smallest eigen values  -0.006043190290846739 0.2462053953904614\n",
      "Smallest eigen values  0.1518199802254002 0.2871116287860511\n",
      "22\n",
      "Smallest eigen values  -0.06639759609918672 0.4538227317566754\n",
      "Smallest eigen values  0.003876736833097638 0.39669336855654436\n",
      "23\n",
      "Smallest eigen values  0.23608036058216442 0.1253878603281045\n",
      "24\n",
      "Smallest eigen values  0.21137124416108416 0.023667929409885602\n",
      "25\n",
      "Smallest eigen values  0.10451757739668666 0.29785133785059686\n",
      "26\n",
      "Smallest eigen values  0.20938711962458312 0.05392419707724905\n",
      "27\n",
      "Smallest eigen values  0.3331612215834374 (0.25651633340039126+0j)\n",
      "28\n",
      "Smallest eigen values  0.24636702695341567 (0.2181269229751237+0j)\n",
      "29\n",
      "Smallest eigen values  0.11124919641251783 -0.06865749088352843\n",
      "Smallest eigen values  0.07531179720962711 (0.20857220527966902+0j)\n",
      "30\n",
      "Smallest eigen values  0.27822213652235117 -0.13997765799415518\n",
      "Smallest eigen values  0.22346611774949882 0.03300023735956814\n",
      "31\n",
      "Smallest eigen values  0.39307198199308213 0.07438338847155028\n",
      "32\n",
      "Smallest eigen values  -0.03785989178327535 0.35587202685894964\n",
      "Smallest eigen values  0.22445217446665056 0.15960475487367243\n",
      "33\n",
      "Smallest eigen values  0.27917810569973184 0.47883211361558964\n",
      "34\n",
      "Smallest eigen values  0.3685887678059009 0.40161556224549155\n",
      "35\n",
      "Smallest eigen values  0.2761448121790382 0.30815858316891676\n",
      "36\n",
      "Smallest eigen values  0.25560179987575715 0.3619044385877528\n",
      "37\n",
      "Smallest eigen values  0.42786005099087854 -0.0861733754280749\n",
      "Smallest eigen values  (0.37829894493165017+0j) 0.04716951246174528\n",
      "38\n",
      "Smallest eigen values  0.15375669298051958 0.5373038236592109\n",
      "39\n",
      "Smallest eigen values  0.41613394002563625 0.472396599787187\n",
      "40\n",
      "Smallest eigen values  0.060782280939909165 0.12194757454965366\n",
      "41\n",
      "Smallest eigen values  0.24903884158076922 (0.3310371749476406+0j)\n",
      "42\n",
      "Smallest eigen values  0.11364569277178639 0.18495960212497956\n",
      "43\n",
      "Smallest eigen values  0.22074382529748782 0.19852405056435796\n",
      "44\n",
      "Smallest eigen values  0.04294507814145455 0.07376954116636975\n",
      "45\n",
      "Smallest eigen values  0.021436174678369335 0.18843195993408735\n",
      "46\n",
      "Smallest eigen values  0.3336753184891596 0.29423702714096595\n",
      "47\n",
      "Smallest eigen values  0.08349686518660882 0.39877817176950464\n",
      "48\n",
      "Smallest eigen values  -0.085291436829202 0.48497734228112993\n",
      "Smallest eigen values  0.2989543913009896 (0.06474459703337043+0j)\n",
      "49\n",
      "Smallest eigen values  (0.39181018398767703+0j) 0.11491839227029121\n"
     ]
    }
   ],
   "execution_count": 2
  },
  {
   "metadata": {},
   "cell_type": "code",
   "source": [
    "# plt.imshow(dep_mat_prior[0,10])\n",
    "# plt.imshow(comm_gt_lst[0])"
   ],
   "id": "5cfa0a0b78bc2cf7",
   "outputs": [],
   "execution_count": null
  },
  {
   "metadata": {
    "ExecuteTime": {
     "end_time": "2024-08-15T17:32:15.170281Z",
     "start_time": "2024-08-15T17:31:59.912494Z"
    }
   },
   "cell_type": "code",
   "source": [
    "idx = datetime.now().strftime(\"%Y_%m_%d_%H_%M_%S\")\n",
    "f_out = f\"sim3_ggm_three_layer_v2_batch_{idx}\"\n",
    "dat_file = tool_sys.get_work_folder() + f\"/experiment_iddn_paper/sim_input/{f_out}.hdf5\"\n",
    "sim3_h5op.make_new_sim_data(\n",
    "    dat_file,\n",
    "    dat1=np.array(dat1_lst),\n",
    "    dat2=np.array(dat2_lst),\n",
    "    con_mat1=np.array(con_mat1_lst),\n",
    "    con_mat2=np.array(con_mat2_lst),\n",
    "    comm_gt=np.array(comm_gt_lst),\n",
    "    diff_gt=np.array(diff_gt_lst),\n",
    "    dep_mat_null=dep_mat_prior[:,0],\n",
    "    dep_mat_prior=dep_mat_prior[:,6],  # 50% removed \n",
    "    dep_mat_prior_loose=dep_mat_prior,\n",
    "    layer_count=layer_count,\n",
    ")\n",
    "print(f_out)"
   ],
   "id": "7d8b7a8c38ee1b74",
   "outputs": [
    {
     "name": "stdout",
     "output_type": "stream",
     "text": [
      "sim3_ggm_three_layer_v2_batch_2024_08_15_13_31_59\n"
     ]
    }
   ],
   "execution_count": 3
  }
 ],
 "metadata": {
  "kernelspec": {
   "display_name": "Python 3",
   "language": "python",
   "name": "python3"
  },
  "language_info": {
   "codemirror_mode": {
    "name": "ipython",
    "version": 2
   },
   "file_extension": ".py",
   "mimetype": "text/x-python",
   "name": "python",
   "nbconvert_exporter": "python",
   "pygments_lexer": "ipython2",
   "version": "2.7.6"
  }
 },
 "nbformat": 4,
 "nbformat_minor": 5
}
