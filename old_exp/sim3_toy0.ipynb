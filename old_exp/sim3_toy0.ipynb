{
 "cells": [
  {
   "metadata": {},
   "cell_type": "markdown",
   "source": "# Toy examples of steady state simulation",
   "id": "8238af0dfbda60cc"
  },
  {
   "metadata": {
    "ExecuteTime": {
     "end_time": "2024-06-12T21:22:59.374271Z",
     "start_time": "2024-06-12T21:22:57.904479Z"
    }
   },
   "cell_type": "code",
   "source": [
    "import numpy as np\n",
    "\n",
    "from iddn_paper.old_functions import sim3_ode\n"
   ],
   "id": "6a48254b60d8b2a3",
   "outputs": [],
   "execution_count": 1
  },
  {
   "metadata": {},
   "cell_type": "markdown",
   "source": "## Network of one TF and two genes",
   "id": "acf0d70a632c64ff"
  },
  {
   "metadata": {},
   "cell_type": "code",
   "source": [
    "# molecular network for TF protein and mRNA\n",
    "# Feedback not used here\n",
    "# layer. 0: RNA, 1: protein\n",
    "# role of a parent: 0: TF activate, 1: TF repress, 2: dosage in translation, 3: miRNA repress\n",
    "\n",
    "idx_layer = {0: 0, 1: 0, 2: 0, 3: 1, 4: 1, 5: 1}\n",
    "idx_par = {\n",
    "    0: [],\n",
    "    1: [3],\n",
    "    2: [3],\n",
    "    3: [0],\n",
    "    4: [1],\n",
    "    5: [2],\n",
    "}\n",
    "idx_par_roles = {\n",
    "    0: [],\n",
    "    1: [0],\n",
    "    2: [0],\n",
    "    3: [2],\n",
    "    4: [2],\n",
    "    5: [2],\n",
    "}"
   ],
   "id": "ce7b3c7249f3d72c",
   "outputs": [],
   "execution_count": null
  },
  {
   "metadata": {},
   "cell_type": "code",
   "outputs": [],
   "execution_count": null,
   "source": [
    "# Direct calculation\n",
    "N = 10000\n",
    "x0 = np.random.randn(N) * 0.5 + 10\n",
    "p0 = x0 + np.random.randn(N) * 0.2\n",
    "p0x = (p0 / 10) ** 1\n",
    "x1 = p0x / (1 + p0x) * 20 + np.random.randn(N) * 0.2\n",
    "x2 = p0x / (1 + p0x) * 20 + np.random.randn(N) * 0.2\n",
    "\n",
    "print(np.corrcoef(x0, x2))\n",
    "print(np.corrcoef(p0, x2))"
   ],
   "id": "5e56c7c9555a8302"
  },
  {
   "metadata": {},
   "cell_type": "code",
   "source": [
    "# Simulation, steady state\n",
    "dat_toy, state_history, noise_history = sim3_ode.run_sim(\n",
    "    idx_layer, idx_par, idx_par_roles, n_sample=1000, n_max_steps=10, method=\"steady\"\n",
    ")\n",
    "# The correlation between 3 and 1 should be higher than between 0 and 1\n",
    "np.corrcoef(dat_toy.T)"
   ],
   "id": "16b6638f8e3559a7",
   "outputs": [],
   "execution_count": null
  },
  {
   "metadata": {},
   "cell_type": "code",
   "outputs": [],
   "execution_count": null,
   "source": "",
   "id": "1f7cac05bace7efe"
  }
 ],
 "metadata": {
  "kernelspec": {
   "display_name": "Python 3",
   "language": "python",
   "name": "python3"
  },
  "language_info": {
   "codemirror_mode": {
    "name": "ipython",
    "version": 2
   },
   "file_extension": ".py",
   "mimetype": "text/x-python",
   "name": "python",
   "nbconvert_exporter": "python",
   "pygments_lexer": "ipython2",
   "version": "2.7.6"
  }
 },
 "nbformat": 4,
 "nbformat_minor": 5
}
