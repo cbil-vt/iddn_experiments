{
 "cells": [
  {
   "metadata": {
    "ExecuteTime": {
     "end_time": "2024-07-08T18:13:59.760160Z",
     "start_time": "2024-07-08T18:13:53.990502Z"
    }
   },
   "cell_type": "code",
   "source": [
    "import numpy as np\n",
    "import matplotlib.pyplot as plt\n",
    "from importlib import reload\n",
    "from ddn3 import simulation\n",
    "from ddn3_extra import simulation_r\n",
    "from iddn_paper import sim3_h5op, tool_sys\n"
   ],
   "id": "d0851b2aa5e1e60b",
   "outputs": [],
   "execution_count": 1
  },
  {
   "metadata": {
    "ExecuteTime": {
     "end_time": "2024-07-08T18:14:06.564062Z",
     "start_time": "2024-07-08T18:14:04.913313Z"
    }
   },
   "cell_type": "code",
   "source": [
    "graph_type = \"hub\"\n",
    "# graph_type = \"scale-free\"\n",
    "n_sample_gen = 10000\n",
    "n_node = 100\n",
    "ratio_diff = 0.25\n",
    "n_group = 5  # 5\n",
    "idx = np.random.randint(1000000)\n",
    "f_out = (\n",
    "    f\"sim3_ggm_{graph_type}_n-node_{n_node}_n-group_{n_group}_ratio_{ratio_diff}_{idx}\"\n",
    ")\n",
    "print(f_out)\n",
    "dat_file = tool_sys.get_work_folder() + f\"/experiment_iddn_paper/sim_input/{f_out}.hdf5\"\n",
    "\n",
    "omega, omega1, omega2 = simulation_r.huge_omega(\n",
    "    n_node=n_node,\n",
    "    ratio_diff=ratio_diff,\n",
    "    graph_type=graph_type,\n",
    "    n_group=n_group,\n",
    ")\n",
    "g1_cov, g2_cov, comm_gt, diff_gt = simulation.prep_sim_from_two_omega(omega1, omega2)\n",
    "con_mat1 = 1 * (np.abs(omega1) > 1e-8)\n",
    "con_mat2 = 1 * (np.abs(omega2) > 1e-8)\n",
    "con_mat1[np.arange(n_node), np.arange(n_node)] = 0\n",
    "con_mat2[np.arange(n_node), np.arange(n_node)] = 0\n",
    "\n",
    "n1, n2 = n_sample_gen, n_sample_gen\n",
    "dat1, dat2 = simulation.gen_sample_two_conditions(g1_cov, g2_cov, n1, n2)\n"
   ],
   "id": "1f8d84e5a7b425e",
   "outputs": [
    {
     "name": "stdout",
     "output_type": "stream",
     "text": [
      "sim3_ggm_hub_n-node_100_n-group_5_ratio_0.25_595341\n"
     ]
    }
   ],
   "execution_count": 2
  },
  {
   "metadata": {
    "ExecuteTime": {
     "end_time": "2024-07-08T18:14:58.298226Z",
     "start_time": "2024-07-08T18:14:58.282945Z"
    }
   },
   "cell_type": "code",
   "source": [
    "# plt.imshow(g1_cov)\n",
    "# plt.clim([-1,1])\n",
    "# plt.colorbar()"
   ],
   "id": "6f57f4957e3c3d63",
   "outputs": [],
   "execution_count": 6
  },
  {
   "metadata": {
    "ExecuteTime": {
     "end_time": "2024-07-08T03:09:15.970904Z",
     "start_time": "2024-07-08T03:09:15.950915Z"
    }
   },
   "cell_type": "code",
   "source": [
    "dep_mat = np.ones((n_node, n_node))\n",
    "dep_mat_null = dep_mat\n",
    "# dep_mat_prior = dep_mat\n",
    "\n",
    "msk_mat = comm_gt+diff_gt\n",
    "idx0, idx1 = np.where(msk_mat == 0)\n",
    "n_zero = len(idx0)\n",
    "\n",
    "dep_mat_prior = np.copy(msk_mat)\n",
    "idx_sel = np.random.choice(n_zero, int(n_zero*0.05))\n",
    "idx0_sel = idx0[idx_sel]\n",
    "idx1_sel = idx1[idx_sel]\n",
    "dep_mat_prior[idx0_sel, idx1_sel] = 1\n",
    "dep_mat_prior[idx1_sel, idx0_sel] = 1\n",
    "\n",
    "dep_mat_prior_loose = np.copy(msk_mat)\n",
    "idx_sel = np.random.choice(n_zero, int(n_zero*0.25))\n",
    "idx0_sel = idx0[idx_sel]\n",
    "idx1_sel = idx1[idx_sel]\n",
    "dep_mat_prior_loose[idx0_sel, idx1_sel] = 1\n",
    "dep_mat_prior_loose[idx1_sel, idx0_sel] = 1\n"
   ],
   "id": "c7b567d41a0fde24",
   "outputs": [],
   "execution_count": 43
  },
  {
   "metadata": {
    "ExecuteTime": {
     "end_time": "2024-07-08T02:59:28.861061Z",
     "start_time": "2024-07-08T02:59:28.843848Z"
    }
   },
   "cell_type": "code",
   "source": "",
   "id": "e1e2ed2bf5b8b09f",
   "outputs": [],
   "execution_count": 35
  },
  {
   "metadata": {},
   "cell_type": "markdown",
   "source": "Visualize the covariance and precision matrices",
   "id": "f8d96f1b2b0d5bf9"
  },
  {
   "metadata": {
    "ExecuteTime": {
     "end_time": "2024-06-22T22:40:57.670628Z",
     "start_time": "2024-06-22T22:40:57.655314Z"
    }
   },
   "cell_type": "code",
   "source": [
    "# fig, ax = plt.subplots(1,3,figsize=(20, 10))\n",
    "# cov_x, _ = simulation.create_cov_prec_mat(omega)\n",
    "# cov_x1, _ = simulation.create_cov_prec_mat(omega1)\n",
    "# cov_x2, _ = simulation.create_cov_prec_mat(omega2)\n",
    "# im0 = ax[0].imshow(np.abs(cov_x))\n",
    "# im1 = ax[1].imshow(np.abs(cov_x1))\n",
    "# im2 = ax[2].imshow(np.abs(cov_x2))\n",
    "# im0.set_clim(0,1)\n",
    "# im1.set_clim(0,1)\n",
    "# im2.set_clim(0,1)"
   ],
   "id": "ca78483f2add629d",
   "outputs": [],
   "execution_count": 437
  },
  {
   "metadata": {
    "ExecuteTime": {
     "end_time": "2024-06-22T22:40:40.974574Z",
     "start_time": "2024-06-22T22:40:40.965161Z"
    }
   },
   "cell_type": "code",
   "source": [
    "# _, ax = plt.subplots(1,3,figsize=(20, 10))\n",
    "# im0 = ax[0].imshow(np.abs(omega))\n",
    "# im1 = ax[1].imshow(np.abs(omega1))\n",
    "# im2 = ax[2].imshow(np.abs(omega2))\n",
    "# im0.set_clim(0,1)\n",
    "# im1.set_clim(0,1)\n",
    "# im2.set_clim(0,1)"
   ],
   "id": "1a9de7413a048436",
   "outputs": [],
   "execution_count": 436
  },
  {
   "metadata": {
    "ExecuteTime": {
     "end_time": "2024-06-22T17:50:43.474576Z",
     "start_time": "2024-06-22T17:50:43.459153Z"
    }
   },
   "cell_type": "code",
   "source": "# np.savez(f\"temp/{f_out}_hub_bad_case.npz\", omega=omega, omega1=omega1, omega2=omega2, g1_cov=g1_cov, g2_cov=g2_cov)",
   "id": "9e589af7bfda6083",
   "outputs": [],
   "execution_count": 93
  },
  {
   "metadata": {
    "ExecuteTime": {
     "end_time": "2024-07-08T03:09:19.177758Z",
     "start_time": "2024-07-08T03:09:18.780566Z"
    }
   },
   "cell_type": "code",
   "source": [
    "if 1:\n",
    "    sim3_h5op.make_new_sim_data(\n",
    "        dat_file,\n",
    "        dat1,\n",
    "        dat2,\n",
    "        con_mat1,\n",
    "        con_mat2,\n",
    "        comm_gt=comm_gt,\n",
    "        diff_gt=diff_gt,\n",
    "        dep_mat_null=dep_mat_null,\n",
    "        dep_mat_prior=dep_mat_prior,\n",
    "        dep_mat_prior_loose=dep_mat_prior_loose,\n",
    "    )\n"
   ],
   "id": "6ddbd959de3ea1d7",
   "outputs": [],
   "execution_count": 44
  },
  {
   "metadata": {},
   "cell_type": "code",
   "outputs": [],
   "execution_count": null,
   "source": "",
   "id": "865aad8e3191bfab"
  }
 ],
 "metadata": {
  "kernelspec": {
   "display_name": "Python 3",
   "language": "python",
   "name": "python3"
  },
  "language_info": {
   "codemirror_mode": {
    "name": "ipython",
    "version": 2
   },
   "file_extension": ".py",
   "mimetype": "text/x-python",
   "name": "python",
   "nbconvert_exporter": "python",
   "pygments_lexer": "ipython2",
   "version": "2.7.6"
  }
 },
 "nbformat": 4,
 "nbformat_minor": 5
}
