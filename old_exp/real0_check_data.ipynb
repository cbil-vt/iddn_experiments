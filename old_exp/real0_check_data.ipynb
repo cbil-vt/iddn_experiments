{
 "cells": [
  {
   "cell_type": "markdown",
   "metadata": {},
   "source": [
    "# Check CPTAC data"
   ]
  },
  {
   "cell_type": "code",
   "execution_count": 1,
   "metadata": {},
   "outputs": [],
   "source": [
    "import numpy as np\n",
    "import scipy.io as sio\n",
    "import pandas as pd\n",
    "from iddn_paper.old_functions import data_cptac as cptac_data\n",
    "\n",
    "%load_ext autoreload\n",
    "%autoreload 2\n",
    "\n",
    "dat_folder = \"../../../x_data/iddn/\""
   ]
  },
  {
   "cell_type": "markdown",
   "metadata": {},
   "source": [
    "## Application 1"
   ]
  },
  {
   "cell_type": "code",
   "execution_count": null,
   "metadata": {},
   "outputs": [],
   "source": [
    "f0 = dat_folder + \"dataHRDp.csv\"\n",
    "dat_pos = pd.read_csv(f0, header=None)\n",
    "f0 = dat_folder + \"dataHRDn.csv\"\n",
    "dat_neg = pd.read_csv(f0, header=None)\n",
    "dat = pd.concat((dat_pos, dat_neg)).to_numpy()"
   ]
  },
  {
   "cell_type": "code",
   "execution_count": null,
   "metadata": {},
   "outputs": [],
   "source": [
    "corr_gene_cnv = []\n",
    "for i in range(120):\n",
    "    x = dat[:,i]\n",
    "    y = dat[:,i+120]\n",
    "    corr_gene_cnv.append(np.corrcoef(x,y)[0,1])\n",
    "std_gene_cnv = np.std(corr_gene_cnv)\n",
    "\n",
    "dat_gene = dat[:,120:240]\n",
    "dat_tf = dat[:,240:]\n",
    "n_gene = dat_gene.shape[1]\n",
    "n_tf = dat_tf.shape[1]\n",
    "corr_mat = np.zeros((n_gene, n_tf))\n",
    "for i in range(n_gene):\n",
    "    for j in range(n_tf):\n",
    "        x = dat_gene[:,i]\n",
    "        y = dat_tf[:,j]\n",
    "        corr_mat[i,j] = np.corrcoef(x,y)[0,1]\n",
    "std_gene_tf = np.std(corr_mat.flat)\n",
    "\n",
    "corr_mat_gene = np.corrcoef(dat_gene.T)\n",
    "std_gene = np.std(corr_mat_gene.flat)\n",
    "\n",
    "print(std_gene, std_gene_cnv, std_gene_tf)"
   ]
  },
  {
   "cell_type": "markdown",
   "metadata": {},
   "source": [
    "## Application 2"
   ]
  },
  {
   "cell_type": "code",
   "execution_count": 2,
   "metadata": {},
   "outputs": [],
   "source": [
    "kd = cptac_data.KinaseData()\n",
    "# kd.print_kinase_substrate_overlap()\n",
    "# kd.print_protein_type()"
   ]
  },
  {
   "cell_type": "code",
   "execution_count": 11,
   "metadata": {},
   "outputs": [
    {
     "data": {
      "text/plain": [
       "110"
      ]
     },
     "execution_count": 11,
     "metadata": {},
     "output_type": "execute_result"
    }
   ],
   "source": [
    "len(np.unique(kd.prot_name))"
   ]
  },
  {
   "cell_type": "code",
   "execution_count": 6,
   "metadata": {},
   "outputs": [
    {
     "data": {
      "text/plain": [
       "array(['ABL1', 'ACTN1', 'ADD2', 'AHSA1', 'ANXA2', 'ARHGDIB', 'BCAR1',\n",
       "       'BTK', 'CBL', 'CDC42', 'CDC73', 'CDCP1', 'CDK4', 'CDKN1B',\n",
       "       'CHCHD2', 'CLIC5', 'CNKSR1', 'CRK', 'CRKL', 'DBNL', 'DOK1',\n",
       "       'DYRK1A', 'DYRK1B', 'EGFR', 'ELMO1', 'FER', 'FGFR1', 'FGFR2',\n",
       "       'FGFR3', 'FGR', 'FHIT', 'FHOD1', 'FIP1L1', 'FRK', 'FXN', 'FYN',\n",
       "       'G6PD', 'GAB2', 'GPX1', 'GSTP1', 'GTF2I', 'HCK', 'HLA-A', 'HSPA9',\n",
       "       'IGF1R', 'INSR', 'JAK1', 'JUP', 'KRT19', 'LASP1', 'LYN', 'MAP2',\n",
       "       'MAP3K5', 'MAPRE1', 'MCM7', 'MPZL1', 'MYLK', 'NCKIPSD', 'NPM1',\n",
       "       'PBK', 'PCNA', 'PDPK1', 'PIK3R1', 'PLD2', 'PPP1R8', 'PTK2',\n",
       "       'PTK2B', 'PTPN6', 'RAB14', 'RBM39', 'RPS6KA3', 'RTN4', 'SDCBP',\n",
       "       'SLC4A1AP', 'SNCA', 'SRC', 'STAT3', 'STAT5A', 'STK4', 'SYK',\n",
       "       'TP53', 'TRIM28', 'TRIP10', 'TRIP6', 'TTK', 'TYK2', 'WAS', 'WWTR1',\n",
       "       'YAP1', 'YES1', 'YWHAH', 'ZAP70'], dtype='<U8')"
      ]
     },
     "execution_count": 6,
     "metadata": {},
     "output_type": "execute_result"
    }
   ],
   "source": [
    "np.unique(np.array(kd.ksr).flat)"
   ]
  },
  {
   "cell_type": "code",
   "execution_count": 14,
   "metadata": {},
   "outputs": [
    {
     "data": {
      "text/plain": [
       "(110, 110)"
      ]
     },
     "execution_count": 14,
     "metadata": {},
     "output_type": "execute_result"
    }
   ],
   "source": [
    "kd.ksr_mat.shape"
   ]
  },
  {
   "cell_type": "markdown",
   "metadata": {},
   "source": [
    "## More complete data"
   ]
  },
  {
   "cell_type": "code",
   "execution_count": null,
   "metadata": {},
   "outputs": [],
   "source": [
    "f0 = dat_folder + \"CPTAC_Pros_MultiOmics_PNNL_Osama.mat\"\n",
    "cptac_file = sio.loadmat(f0)"
   ]
  },
  {
   "cell_type": "code",
   "execution_count": null,
   "metadata": {},
   "outputs": [],
   "source": [
    "cptac_file.keys()"
   ]
  },
  {
   "cell_type": "code",
   "execution_count": null,
   "metadata": {},
   "outputs": [],
   "source": [
    "# Chromosome instability index\n",
    "cindex = cptac_file[\"dataCIndex\"][0][0]"
   ]
  },
  {
   "cell_type": "code",
   "execution_count": null,
   "metadata": {},
   "outputs": [],
   "source": [
    "cnv = cptac_file[\"dataCNV\"][0][0]\n",
    "cnv_samples = [x[0] for x in cnv[5][0]]"
   ]
  },
  {
   "cell_type": "code",
   "execution_count": null,
   "metadata": {},
   "outputs": [],
   "source": [
    "rna = cptac_file[\"dataRNA\"][0][0]\n",
    "rna_samples = [x[0] for x in rna[5][0]]"
   ]
  },
  {
   "cell_type": "code",
   "execution_count": null,
   "metadata": {},
   "outputs": [],
   "source": [
    "prot = cptac_file[\"dataTumor\"][0][0]\n",
    "prot_samples = [x[0] for x in prot[2][0]]"
   ]
  },
  {
   "cell_type": "code",
   "execution_count": null,
   "metadata": {},
   "outputs": [],
   "source": [
    "set(prot_samples) - set(rna_samples)"
   ]
  },
  {
   "cell_type": "code",
   "execution_count": null,
   "metadata": {},
   "outputs": [],
   "source": [
    "cptac_file[\"dataREF\"][0][0][0][0]"
   ]
  },
  {
   "cell_type": "code",
   "execution_count": null,
   "metadata": {},
   "outputs": [],
   "source": ""
  }
 ],
 "metadata": {
  "kernelspec": {
   "display_name": "ddn",
   "language": "python",
   "name": "python3"
  },
  "language_info": {
   "codemirror_mode": {
    "name": "ipython",
    "version": 3
   },
   "file_extension": ".py",
   "mimetype": "text/x-python",
   "name": "python",
   "nbconvert_exporter": "python",
   "pygments_lexer": "ipython3",
   "version": "3.9.18"
  }
 },
 "nbformat": 4,
 "nbformat_minor": 2
}
