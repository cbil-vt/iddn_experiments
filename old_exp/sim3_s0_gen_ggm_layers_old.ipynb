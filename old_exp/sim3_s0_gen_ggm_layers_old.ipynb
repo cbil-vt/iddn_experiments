{
 "cells": [
  {
   "metadata": {},
   "cell_type": "markdown",
   "source": "# GGM simulation with layers",
   "id": "efa135b1af1c2c7e"
  },
  {
   "metadata": {
    "ExecuteTime": {
     "end_time": "2024-08-22T02:54:30.822294Z",
     "start_time": "2024-08-22T02:54:23.125125Z"
    }
   },
   "cell_type": "code",
   "source": [
    "import numpy as np\n",
    "from datetime import datetime\n",
    "import matplotlib.pyplot as plt\n",
    "from importlib import reload\n",
    "from ddn3 import simulation\n",
    "from ddn3_extra import simulation_r\n",
    "from iddn_paper import sim3_h5op, tool_sys, sim3_network_toy\n"
   ],
   "id": "d0851b2aa5e1e60b",
   "outputs": [],
   "execution_count": 1
  },
  {
   "metadata": {},
   "cell_type": "markdown",
   "source": "## Two layers",
   "id": "1e758b8bd53dbcc8"
  },
  {
   "metadata": {},
   "cell_type": "code",
   "source": [
    "# dat1_lst = []\n",
    "# dat2_lst = []\n",
    "# con_mat1_lst = []\n",
    "# con_mat2_lst = []\n",
    "# comm_gt_lst = []\n",
    "# diff_gt_lst = []\n",
    "# dep_mat_prior_lst = []\n",
    "# layer_count = np.array([50, 50])\n",
    "#\n",
    "# reload(sim3_network_toy)\n",
    "# for n in range(50):\n",
    "#     print(n)\n",
    "#     dat1, dat2, con_mat1, con_mat2, comm_gt, diff_gt, dep_mat_prior = sim3_network_toy.toy_two_layer(\n",
    "#         n_sample_gen=500,\n",
    "#         tf_mrna_powerlaw=True,\n",
    "#         tf_tf_network=True,\n",
    "#         tf_tf_graph_type=\"scale-free\",\n",
    "#         diag_scale=0.5,\n",
    "#     )\n",
    "#     dat1_lst.append(dat1)\n",
    "#     dat2_lst.append(dat2)\n",
    "#     con_mat1_lst.append(con_mat1)\n",
    "#     con_mat2_lst.append(con_mat2)\n",
    "#     comm_gt_lst.append(comm_gt)\n",
    "#     diff_gt_lst.append(diff_gt)\n",
    "#     dep_mat_prior_lst.append(dep_mat_prior)\n",
    "#\n",
    "# idx = np.random.randint(1000000)\n",
    "# f_out = f\"sim3_ggm_two_layer_batch_{idx}\"\n",
    "# dat_file = tool_sys.get_work_folder() + f\"/experiment_iddn_paper/sim_input/{f_out}.hdf5\"\n",
    "# dep_mat_prior = np.array(dep_mat_prior_lst)\n",
    "#\n",
    "# if 0:\n",
    "#     sim3_h5op.make_new_sim_data(\n",
    "#         dat_file,\n",
    "#         dat1=np.array(dat1_lst),\n",
    "#         dat2=np.array(dat2_lst),\n",
    "#         con_mat1=np.array(con_mat1_lst),\n",
    "#         con_mat2=np.array(con_mat2_lst),\n",
    "#         comm_gt=np.array(comm_gt_lst),\n",
    "#         diff_gt=np.array(diff_gt_lst),\n",
    "#         dep_mat_null=np.ones_like(dep_mat_prior),\n",
    "#         dep_mat_prior=dep_mat_prior,\n",
    "#         dep_mat_prior_loose=dep_mat_prior,\n",
    "#         layer_count=layer_count,\n",
    "#     )\n",
    "#     print(f_out)\n"
   ],
   "id": "7207e1d9c5c4501c",
   "outputs": [],
   "execution_count": null
  },
  {
   "metadata": {},
   "cell_type": "code",
   "source": [
    "# plt.imshow(dep_mat_prior[0])\n",
    "# np.sign(np.random.rand(10)-0.5)"
   ],
   "id": "291087c212e62b60",
   "outputs": [],
   "execution_count": null
  },
  {
   "metadata": {},
   "cell_type": "markdown",
   "source": "## Three layers",
   "id": "dd8204937880de24"
  },
  {
   "metadata": {
    "ExecuteTime": {
     "end_time": "2024-08-22T02:54:42.215223Z",
     "start_time": "2024-08-22T02:54:41.106095Z"
    }
   },
   "cell_type": "code",
   "source": [
    "dat1_lst = []\n",
    "dat2_lst = []\n",
    "con_mat1_lst = []\n",
    "con_mat2_lst = []\n",
    "comm_gt_lst = []\n",
    "diff_gt_lst = []\n",
    "dep_mat_prior_lst = []\n",
    "omega1_lst = []\n",
    "omega2_lst = []\n",
    "\n",
    "n_mrna, n_tf, n_mirna = 50, 50, 50\n",
    "\n",
    "n_conn_tf_mrna, n_conn_mirna_mrna, ratio_diag = 2, 2, 0.8\n",
    "# n_conn_tf_mrna, n_conn_mirna_mrna, ratio_diag = 5, 5, 0.75\n",
    "# n_conn_tf_mrna, n_conn_mirna_mrna, ratio_diag = 8, 8, 0.73  # Showing the benefits of multi-omics\n",
    "\n",
    "layer_count = np.array([n_mrna, n_tf, n_mirna])  # mRNA, TF, miRNA\n",
    "\n",
    "reload(sim3_network_toy)\n",
    "reload(simulation_r)\n",
    "for n in range(2):\n",
    "    print(n)\n",
    "    dat1, dat2, con_mat1, con_mat2, comm_gt, diff_gt, dep_mat_prior, om1, om2 = sim3_network_toy.toy_three_layer(\n",
    "        n_mrna=n_mrna,\n",
    "        n_tf=n_tf,\n",
    "        n_mirna=n_mirna,\n",
    "        n_sample_gen=500,\n",
    "        ratio_diag=ratio_diag,\n",
    "        n_conn_tf_mrna=n_conn_tf_mrna,\n",
    "        n_conn_mirna_mrna=n_conn_mirna_mrna,\n",
    "    )\n",
    "    dat1_lst.append(dat1)\n",
    "    dat2_lst.append(dat2)\n",
    "    con_mat1_lst.append(con_mat1)\n",
    "    con_mat2_lst.append(con_mat2)\n",
    "    comm_gt_lst.append(comm_gt)\n",
    "    diff_gt_lst.append(diff_gt)\n",
    "    dep_mat_prior_lst.append(dep_mat_prior)\n",
    "    omega1_lst.append(om1)\n",
    "    omega2_lst.append(om2)\n",
    "\n",
    "dep_mat_prior = np.array(dep_mat_prior_lst)\n"
   ],
   "id": "dd3ec233846fc33c",
   "outputs": [
    {
     "name": "stdout",
     "output_type": "stream",
     "text": [
      "0\n",
      "Smallest eigen values  0.35292366273161796 0.007064696374069484\n",
      "1\n",
      "Smallest eigen values  0.13107961829398473 0.31871475416001793\n"
     ]
    }
   ],
   "execution_count": 2
  },
  {
   "metadata": {
    "ExecuteTime": {
     "end_time": "2024-08-22T02:54:44.435392Z",
     "start_time": "2024-08-22T02:54:44.431986Z"
    }
   },
   "cell_type": "code",
   "source": [
    "idx = datetime.now().strftime(\"%Y_%m_%d_%H_%M_%S\")\n",
    "print(idx)\n",
    "# idx = np.random.randint(1000000000)"
   ],
   "id": "41424c7265786733",
   "outputs": [
    {
     "name": "stdout",
     "output_type": "stream",
     "text": [
      "2024_08_21_22_54_44\n"
     ]
    }
   ],
   "execution_count": 3
  },
  {
   "metadata": {
    "ExecuteTime": {
     "end_time": "2024-08-22T02:54:47.654523Z",
     "start_time": "2024-08-22T02:54:47.576336Z"
    }
   },
   "cell_type": "code",
   "source": [
    "f_out = f\"sim3_ggm_three_layer_batch_{idx}\"\n",
    "dat_file = tool_sys.get_work_folder() + f\"/experiment_iddn_paper/sim_input/{f_out}.hdf5\"\n",
    "sim3_h5op.make_new_sim_data(\n",
    "    dat_file,\n",
    "    dat1=np.array(dat1_lst),\n",
    "    dat2=np.array(dat2_lst),\n",
    "    con_mat1=np.array(con_mat1_lst),\n",
    "    con_mat2=np.array(con_mat2_lst),\n",
    "    comm_gt=np.array(comm_gt_lst),\n",
    "    diff_gt=np.array(diff_gt_lst),\n",
    "    dep_mat_null=np.ones_like(dep_mat_prior),\n",
    "    dep_mat_prior=dep_mat_prior,\n",
    "    dep_mat_prior_loose=dep_mat_prior,\n",
    "    layer_count=layer_count,\n",
    ")\n",
    "print(f_out)"
   ],
   "id": "2c3c2d011bf3529c",
   "outputs": [
    {
     "name": "stdout",
     "output_type": "stream",
     "text": [
      "sim3_ggm_three_layer_batch_2024_08_21_22_54_44\n"
     ]
    }
   ],
   "execution_count": 4
  },
  {
   "metadata": {},
   "cell_type": "code",
   "source": "",
   "id": "eb1f8e24be3a0821",
   "outputs": [],
   "execution_count": null
  },
  {
   "metadata": {},
   "cell_type": "markdown",
   "source": "## Four layers",
   "id": "5ce79dac0e7dac06"
  },
  {
   "metadata": {},
   "cell_type": "code",
   "source": [
    "dat1_lst = []\n",
    "dat2_lst = []\n",
    "con_mat1_lst = []\n",
    "con_mat2_lst = []\n",
    "comm_gt_lst = []\n",
    "diff_gt_lst = []\n",
    "dep_mat_prior_lst = []\n",
    "omega1_lst = []\n",
    "omega2_lst = []\n",
    "layer_count = np.array([30, 30, 40])  # TF, mRNA, miRNA+lncRNA\n",
    "\n",
    "reload(sim3_network_toy)\n",
    "reload(simulation_r)\n",
    "for n in range(50):\n",
    "    print(n)\n",
    "    dat1, dat2, con_mat1, con_mat2, comm_gt, diff_gt, dep_mat_prior, om1, om2 = sim3_network_toy.toy_four_layer(\n",
    "        n_tf=30,\n",
    "        n_mrna=30,\n",
    "        n_mirna=20,\n",
    "        n_lncrna=20,\n",
    "        n_sample_gen=500,\n",
    "        tf_mrna_powerlaw=False,  # False\n",
    "        mirna_tf_powerlaw=False,  # False\n",
    "        lncrna_mrna_powerlaw=False,  # False\n",
    "        tf_tf_network=True,\n",
    "        tf_tf_graph_type=\"scale-free\",\n",
    "        diag_scale=None,\n",
    "        make_diff=\"remove\",\n",
    "        ratio_diag=0.8,\n",
    "    )\n",
    "    dat1_lst.append(dat1)\n",
    "    dat2_lst.append(dat2)\n",
    "    con_mat1_lst.append(con_mat1)\n",
    "    con_mat2_lst.append(con_mat2)\n",
    "    comm_gt_lst.append(comm_gt)\n",
    "    diff_gt_lst.append(diff_gt)\n",
    "    dep_mat_prior_lst.append(dep_mat_prior)\n",
    "    omega1_lst.append(om1)\n",
    "    omega2_lst.append(om2)\n",
    "\n",
    "idx = np.random.randint(1000000)\n",
    "dep_mat_prior = np.array(dep_mat_prior_lst)\n"
   ],
   "id": "f6876516b7c2821a",
   "outputs": [],
   "execution_count": null
  },
  {
   "metadata": {},
   "cell_type": "code",
   "source": [
    "# plt.imshow(comm_gt_lst[0])\n",
    "# np.diag(om1)\n",
    "# plt.imshow(om1)\n",
    "# np.sum(comm_gt_lst[0])/2\n",
    "\n",
    "ii = 5\n",
    "c1 = np.corrcoef(dat1_lst[ii].T)\n",
    "c2 = np.corrcoef(dat2_lst[ii].T)\n",
    "plt.figure()\n",
    "plt.imshow(c1)\n",
    "plt.figure()\n",
    "plt.imshow(c2)"
   ],
   "id": "28ada435a1b482a3",
   "outputs": [],
   "execution_count": null
  },
  {
   "metadata": {},
   "cell_type": "code",
   "source": [
    "f_out = f\"sim3_ggm_four_layer_batch_{idx}\"\n",
    "dat_file = tool_sys.get_work_folder() + f\"/experiment_iddn_paper/sim_input/{f_out}.hdf5\"\n",
    "sim3_h5op.make_new_sim_data(\n",
    "    dat_file,\n",
    "    dat1=np.array(dat1_lst),\n",
    "    dat2=np.array(dat2_lst),\n",
    "    con_mat1=np.array(con_mat1_lst),\n",
    "    con_mat2=np.array(con_mat2_lst),\n",
    "    comm_gt=np.array(comm_gt_lst),\n",
    "    diff_gt=np.array(diff_gt_lst),\n",
    "    dep_mat_null=np.ones_like(dep_mat_prior),\n",
    "    dep_mat_prior=dep_mat_prior,\n",
    "    dep_mat_prior_loose=dep_mat_prior,\n",
    "    layer_count=layer_count,\n",
    ")\n",
    "print(f_out)"
   ],
   "id": "31e59f29d59c1ddf",
   "outputs": [],
   "execution_count": null
  },
  {
   "metadata": {},
   "cell_type": "markdown",
   "source": [
    "## Four layers 1\n",
    "More edges from regulators"
   ],
   "id": "ea6ad7cf8a93bb5a"
  },
  {
   "metadata": {},
   "cell_type": "code",
   "source": [
    "dat1_lst = []\n",
    "dat2_lst = []\n",
    "con_mat1_lst = []\n",
    "con_mat2_lst = []\n",
    "comm_gt_lst = []\n",
    "diff_gt_lst = []\n",
    "dep_mat_prior_lst = []\n",
    "omega1_lst = []\n",
    "omega2_lst = []\n",
    "layer_count = np.array([30, 30, 60])  # TF, mRNA, miRNA+lncRNA\n",
    "\n",
    "reload(sim3_network_toy)\n",
    "reload(simulation_r)\n",
    "for n in range(50):\n",
    "    print(n)\n",
    "    dat1, dat2, con_mat1, con_mat2, comm_gt, diff_gt, dep_mat_prior, om1, om2 = sim3_network_toy.toy_four_layer(\n",
    "        n_tf=30,\n",
    "        n_mrna=30,\n",
    "        n_mirna=30,\n",
    "        n_lncrna=30,\n",
    "        n_sample_gen=500,\n",
    "        tf_mrna_powerlaw=False,  # False\n",
    "        mirna_tf_powerlaw=False,  # False\n",
    "        lncrna_mrna_powerlaw=False,  # False\n",
    "        tf_tf_network=True,\n",
    "        tf_tf_graph_type=\"scale-free\",\n",
    "        diag_scale=None,\n",
    "        make_diff=\"remove\",\n",
    "        ratio_diag=0.8,\n",
    "        n_conn_tf_mrna=2,\n",
    "        n_conn_mirna_tf=8,\n",
    "        n_conn_lncrna_mrna=8,\n",
    "    )\n",
    "    dat1_lst.append(dat1)\n",
    "    dat2_lst.append(dat2)\n",
    "    con_mat1_lst.append(con_mat1)\n",
    "    con_mat2_lst.append(con_mat2)\n",
    "    comm_gt_lst.append(comm_gt)\n",
    "    diff_gt_lst.append(diff_gt)\n",
    "    dep_mat_prior_lst.append(dep_mat_prior)\n",
    "    omega1_lst.append(om1)\n",
    "    omega2_lst.append(om2)\n",
    "\n",
    "idx = np.random.randint(1000000)\n",
    "dep_mat_prior = np.array(dep_mat_prior_lst)"
   ],
   "id": "12c51f99c7bc7a74",
   "outputs": [],
   "execution_count": null
  },
  {
   "metadata": {},
   "cell_type": "code",
   "source": [
    "f_out = f\"sim3_ggm_four_layer_batch_{idx}\"\n",
    "dat_file = tool_sys.get_work_folder() + f\"/experiment_iddn_paper/sim_input/{f_out}.hdf5\"\n",
    "sim3_h5op.make_new_sim_data(\n",
    "    dat_file,\n",
    "    dat1=np.array(dat1_lst),\n",
    "    dat2=np.array(dat2_lst),\n",
    "    con_mat1=np.array(con_mat1_lst),\n",
    "    con_mat2=np.array(con_mat2_lst),\n",
    "    comm_gt=np.array(comm_gt_lst),\n",
    "    diff_gt=np.array(diff_gt_lst),\n",
    "    dep_mat_null=np.ones_like(dep_mat_prior),\n",
    "    dep_mat_prior=dep_mat_prior,\n",
    "    dep_mat_prior_loose=dep_mat_prior,\n",
    "    layer_count=layer_count,\n",
    ")\n",
    "print(f_out)"
   ],
   "id": "1f8d84e5a7b425e",
   "outputs": [],
   "execution_count": null
  },
  {
   "metadata": {},
   "cell_type": "markdown",
   "source": "## Debug",
   "id": "cf9a01e446362611"
  },
  {
   "metadata": {},
   "cell_type": "code",
   "source": [
    "# from scipy.stats import powerlaw\n",
    "\n",
    "# xx = powerlaw.rvs(0.3)\n",
    "# xx = powerlaw.rvs(0.2, size=50)\n",
    "# np.sum(xx)\n",
    "# np.sum(xx>0.8)"
   ],
   "id": "1f4fedaf8da98bc2",
   "outputs": [],
   "execution_count": null
  },
  {
   "metadata": {},
   "cell_type": "code",
   "source": [
    "graph_type = \"random\"\n",
    "# graph_type = \"scale-free-multi\"\n",
    "n_sample_gen = 10000\n",
    "n_tf = 50\n",
    "n_mrna = 50\n",
    "n_node = n_tf + n_mrna\n",
    "ratio_diff = 0.25\n",
    "n_group = 2  # 5\n",
    "\n",
    "# reload(simulation_r)\n",
    "# omega, omega1, omega2 = simulation_r.huge_omega(\n",
    "#     n_node=n_tf,\n",
    "#     ratio_diff=ratio_diff,\n",
    "#     graph_type=graph_type,\n",
    "#     n_group=n_group,\n",
    "# )\n",
    "\n",
    "omega = np.eye(n_tf)\n"
   ],
   "id": "467fb33bb1e96099",
   "outputs": [],
   "execution_count": null
  },
  {
   "metadata": {},
   "cell_type": "code",
   "source": [
    "omega_ext = np.eye(n_node)\n",
    "omega_ext[:n_tf, :n_tf] = 1*(np.abs(omega)>1e-3)\n",
    "# tf_deg = np.sum(np.abs(omega)>1e-3, axis=1)\n",
    "mrna_lst = np.arange(n_tf, n_node)\n",
    "for n in range(n_tf):\n",
    "    tgt = np.random.choice(mrna_lst, 2, replace=False)\n",
    "    omega_ext[tgt, n] = 1.0\n",
    "    omega_ext[n, tgt] = 1.0\n",
    "\n",
    "dep_mat_null = np.ones((n_node, n_node))\n",
    "dep_mat_prior = np.ones_like(omega_ext)\n",
    "dep_mat_prior[n_tf:, n_tf:] = 0\n",
    "dep_mat_prior[:n_tf:, :n_tf] = 0\n",
    "plt.imshow(dep_mat_prior)"
   ],
   "id": "67f9497183f4016f",
   "outputs": [],
   "execution_count": null
  },
  {
   "metadata": {},
   "cell_type": "code",
   "source": "plt.imshow(np.abs(omega_ext)>1e-3)",
   "id": "6a14c5f314d1183d",
   "outputs": [],
   "execution_count": null
  },
  {
   "metadata": {},
   "cell_type": "code",
   "source": [
    "omega_ext1 = np.copy(omega_ext)\n",
    "xx = np.maximum(np.sum(omega_ext1, axis=0)[:] + np.sum(omega_ext1, axis=1)[:], 1.0)\n",
    "omega_ext1[np.arange(len(omega_ext1)), np.arange(len(omega_ext1))] = xx*0.55\n",
    "\n",
    "dep_in = dep_mat_prior + dep_mat_prior.T\n",
    "reload(simulation_r)\n",
    "omega1, omega2 = simulation_r.make_two_from_one(omega_ext1, dep_in, ratio_diff=0.25, verbose=True)"
   ],
   "id": "6ddbd959de3ea1d7",
   "outputs": [],
   "execution_count": null
  },
  {
   "metadata": {},
   "cell_type": "code",
   "source": [
    "g1_cov, g2_cov, comm_gt, diff_gt = simulation.prep_sim_from_two_omega(omega1, omega2)\n",
    "con_mat1 = 1 * (np.abs(omega1) > 1e-8)\n",
    "con_mat2 = 1 * (np.abs(omega2) > 1e-8)\n",
    "con_mat1[np.arange(n_node), np.arange(n_node)] = 0\n",
    "con_mat2[np.arange(n_node), np.arange(n_node)] = 0\n",
    "\n",
    "n1, n2 = n_sample_gen, n_sample_gen\n",
    "dat1, dat2 = simulation.gen_sample_two_conditions(g1_cov, g2_cov, n1, n2)"
   ],
   "id": "865aad8e3191bfab",
   "outputs": [],
   "execution_count": null
  },
  {
   "metadata": {},
   "cell_type": "markdown",
   "source": "Visualize the covariance and precision matrices",
   "id": "76b40189730ad1af"
  },
  {
   "metadata": {},
   "cell_type": "code",
   "source": [
    "# idx = np.random.randint(1000000)\n",
    "# f_out = (\n",
    "#     f\"sim3_ggm_{graph_type}_n-node_{n_node}_n-group_{n_group}_ratio_{ratio_diff}_{idx}\"\n",
    "# )\n",
    "# dat_file = tool_sys.get_work_folder() + f\"/experiment_iddn_paper/sim_input/{f_out}.hdf5\"\n",
    "# \n",
    "# if 1:\n",
    "#     sim3_h5op.make_new_sim_data(\n",
    "#         dat_file,\n",
    "#         dat1,\n",
    "#         dat2,\n",
    "#         con_mat1,\n",
    "#         con_mat2,\n",
    "#         comm_gt=comm_gt,\n",
    "#         diff_gt=diff_gt,\n",
    "#         dep_mat_null=dep_mat_null,\n",
    "#         dep_mat_prior=dep_mat_prior,\n",
    "#         dep_mat_prior_loose=dep_mat_prior,\n",
    "#     )\n",
    "#     print(f_out)\n"
   ],
   "id": "709c1a4b0f7f4d11",
   "outputs": [],
   "execution_count": null
  },
  {
   "metadata": {},
   "cell_type": "code",
   "source": [
    "fig, ax = plt.subplots(1,2,figsize=(15, 6))\n",
    "print(np.mean(np.abs(g1_cov)))\n",
    "print(np.mean(np.abs(g2_cov)))\n",
    "\n",
    "im0 = ax[0].imshow(g1_cov, cmap=\"bwr\")\n",
    "im1 = ax[1].imshow(g2_cov, cmap=\"bwr\")\n",
    "im0.set_clim(-1,1)\n",
    "im1.set_clim(-1,1)\n",
    "fig.colorbar(im0, ax=ax[0])\n",
    "fig.colorbar(im1, ax=ax[1])\n"
   ],
   "id": "c76e3828ca6ced8c",
   "outputs": [],
   "execution_count": null
  }
 ],
 "metadata": {
  "kernelspec": {
   "display_name": "Python 3",
   "language": "python",
   "name": "python3"
  },
  "language_info": {
   "codemirror_mode": {
    "name": "ipython",
    "version": 2
   },
   "file_extension": ".py",
   "mimetype": "text/x-python",
   "name": "python",
   "nbconvert_exporter": "python",
   "pygments_lexer": "ipython2",
   "version": "2.7.6"
  }
 },
 "nbformat": 4,
 "nbformat_minor": 5
}
