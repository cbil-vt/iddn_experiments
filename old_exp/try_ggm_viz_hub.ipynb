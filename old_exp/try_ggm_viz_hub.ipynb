{
 "cells": [
  {
   "metadata": {},
   "cell_type": "markdown",
   "source": "# Playing with the precision matrix of the hub graph",
   "id": "b7d0a817e22f1e34"
  },
  {
   "metadata": {
    "ExecuteTime": {
     "end_time": "2024-06-23T13:14:31.389293Z",
     "start_time": "2024-06-23T13:14:26.855331Z"
    }
   },
   "cell_type": "code",
   "source": [
    "import numpy as np\n",
    "import matplotlib.pyplot as plt\n",
    "from importlib import reload\n",
    "from ddn3 import simulation\n",
    "from ddn3_extra import simulation_r\n"
   ],
   "id": "d0851b2aa5e1e60b",
   "outputs": [],
   "execution_count": 1
  },
  {
   "metadata": {
    "ExecuteTime": {
     "end_time": "2024-06-23T13:14:34.582432Z",
     "start_time": "2024-06-23T13:14:33.689821Z"
    }
   },
   "cell_type": "code",
   "source": [
    "omega, omega1, omega2 = simulation_r.huge_omega(\n",
    "    n_node=100,\n",
    "    ratio_diff=0.25,\n",
    "    graph_type=\"hub\",\n",
    "    n_group=5,\n",
    ")\n",
    "g1_cov, g2_cov, comm_gt, diff_gt = simulation.prep_sim_from_two_omega(omega1, omega2)\n",
    "# dat1, dat2 = simulation.gen_sample_two_conditions(g1_cov, g2_cov, 10000, 10000)\n"
   ],
   "id": "1f8d84e5a7b425e",
   "outputs": [],
   "execution_count": 2
  },
  {
   "metadata": {
    "ExecuteTime": {
     "end_time": "2024-06-23T13:14:36.085258Z",
     "start_time": "2024-06-23T13:14:36.077280Z"
    }
   },
   "cell_type": "code",
   "source": [
    "#        0  1   2   3   4   5   6   7   8   9   10  11  12  13  14  15  16  17  18  19  20  21  22  23\n",
    "idx1 = [ 5, 23, 33, 35, 37, 43, 45, 48, 48, 48, 57, 66, 69, 69, 76, 79, 80, 85, 86, 87, 88, 92, 95, 97]\n",
    "idx2 = [ 4, 13, 18,  7, 25, 15, 11,  0,  2, 27, 31,  1, 28, 59,  3, 29, 69, 15, 59, 21, 14, 12, 51, 13]\n",
    "edge_strong = [ 1,  2,  3,  7,  9, 10, 11, 13, 14, 16, 17, 18, 20, 21, 22, 23]\n",
    "\n",
    "# After removing edge 12, the correlation reach its peak \n",
    "# edge_remove_order = [8, 0, 5, 6, 15, 19, 4, 12, 10, 2, 3, 11, 14, 22, 9, 1, 17, 20, 21, 23, 7, 18, 13, 16]"
   ],
   "id": "cd630f423a5a619a",
   "outputs": [],
   "execution_count": 3
  },
  {
   "metadata": {
    "ExecuteTime": {
     "end_time": "2024-06-23T13:15:18.092902Z",
     "start_time": "2024-06-23T13:15:17.668090Z"
    }
   },
   "cell_type": "code",
   "source": [
    "prec = np.copy(omega)\n",
    "prec_mod = np.copy(omega)\n",
    "\n",
    "# for ii in edge_strong:\n",
    "for ii in [ 13]:\n",
    "    prec_mod[idx1[ii], idx2[ii]] = 0.4132\n",
    "    prec_mod[idx2[ii], idx1[ii]] = 0.4132\n",
    "\n",
    "fig, ax = plt.subplots(1,2,figsize=(15, 6))\n",
    "cov1, _ = simulation.create_cov_prec_mat(prec)\n",
    "cov2, _ = simulation.create_cov_prec_mat(prec_mod)\n",
    "print(np.mean(np.abs(cov1)))\n",
    "print(np.mean(np.abs(cov2)))\n",
    "\n",
    "im0 = ax[0].imshow(cov1, cmap=\"bwr\")\n",
    "im1 = ax[1].imshow(cov2, cmap=\"bwr\")\n",
    "im0.set_clim(-1,1)\n",
    "im1.set_clim(-1,1)\n",
    "fig.colorbar(im0, ax=ax[0])\n",
    "fig.colorbar(im1, ax=ax[1])\n"
   ],
   "id": "4bd71e2fa01110e4",
   "outputs": [
    {
     "name": "stdout",
     "output_type": "stream",
     "text": [
      "0.043346702473676876\n",
      "0.045354971050415714\n"
     ]
    },
    {
     "data": {
      "text/plain": [
       "<matplotlib.colorbar.Colorbar at 0x2aa3ba559d0>"
      ]
     },
     "execution_count": 5,
     "metadata": {},
     "output_type": "execute_result"
    },
    {
     "data": {
      "text/plain": [
       "<Figure size 1500x600 with 4 Axes>"
      ],
      "image/png": "[encoded data removed]"
     },
     "metadata": {},
     "output_type": "display_data"
    }
   ],
   "execution_count": 5
  },
  {
   "metadata": {
    "ExecuteTime": {
     "end_time": "2024-06-22T21:36:28.330965Z",
     "start_time": "2024-06-22T21:36:27.582880Z"
    }
   },
   "cell_type": "code",
   "source": [
    "# Check whether removing some edges will further enhance the overall absolution correlations among nodes\n",
    "idx_sel = np.arange(len(idx1))\n",
    "idx_scan_res = np.zeros(len(idx_sel))-1000\n",
    "idx_bad = [8, 0, 5, 6, 15, 19, 4]\n",
    "# idx_bad = [8, 0, 5, 6, 15, 19, 4, 12, 10, 2, 3, 11, 14, 22, 9, 1, 17, 20, 21, 23, 7, 18, 13, 16]\n",
    "for i in range(len(idx_sel)):\n",
    "    prec_mod_scan = np.copy(omega)\n",
    "    if i in idx_bad:\n",
    "        continue\n",
    "    for ii in range(len(idx_sel)):\n",
    "        if ii==i or ii in idx_bad:\n",
    "            continue\n",
    "        prec_mod_scan[idx1[ii], idx2[ii]] = 0.4132\n",
    "        prec_mod_scan[idx2[ii], idx1[ii]] = 0.4132\n",
    "    cov2, _ = simulation.create_cov_prec_mat(prec_mod_scan)\n",
    "    idx_scan_res[i] = np.mean(np.abs(cov2))\n",
    "\n",
    "print(idx_scan_res)\n",
    "print(np.argmax(idx_scan_res))\n",
    "print(np.max(idx_scan_res))"
   ],
   "id": "d353305143879ffb",
   "outputs": [
    {
     "name": "stdout",
     "output_type": "stream",
     "text": [
      "[-1.00000000e+03  3.08978790e-01  3.70901801e-01  3.70901801e-01\n",
      " -1.00000000e+03 -1.00000000e+03 -1.00000000e+03  1.86227434e-01\n",
      " -1.00000000e+03  3.11878848e-01  4.14021735e-01  3.37530823e-01\n",
      "  5.63598277e-01  2.18489348e-01  3.37530823e-01 -1.00000000e+03\n",
      "  1.88982072e-01  2.74206951e-01  2.42299571e-01 -1.00000000e+03\n",
      "  2.74206951e-01  2.74206951e-01  3.23296169e-01  2.38379856e-01]\n",
      "12\n",
      "0.5635982768017046\n"
     ]
    }
   ],
   "execution_count": 349
  },
  {
   "metadata": {},
   "cell_type": "code",
   "outputs": [],
   "execution_count": null,
   "source": "",
   "id": "865aad8e3191bfab"
  }
 ],
 "metadata": {
  "kernelspec": {
   "display_name": "Python 3",
   "language": "python",
   "name": "python3"
  },
  "language_info": {
   "codemirror_mode": {
    "name": "ipython",
    "version": 2
   },
   "file_extension": ".py",
   "mimetype": "text/x-python",
   "name": "python",
   "nbconvert_exporter": "python",
   "pygments_lexer": "ipython2",
   "version": "2.7.6"
  }
 },
 "nbformat": 4,
 "nbformat_minor": 5
}
