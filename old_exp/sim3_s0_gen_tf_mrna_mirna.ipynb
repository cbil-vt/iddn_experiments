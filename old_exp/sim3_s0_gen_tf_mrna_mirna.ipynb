{
 "cells": [
  {
   "metadata": {},
   "cell_type": "markdown",
   "source": "# Network topology for simulation",
   "id": "3800addd02aa9822"
  },
  {
   "cell_type": "code",
   "id": "initial_id",
   "metadata": {
    "collapsed": true
   },
   "source": [
    "import numpy as np\n",
    "import matplotlib.pyplot as plt\n",
    "from importlib import reload\n",
    "from iddn_paper.old_functions import sim3_network_topo as nett\n",
    "from iddn_paper import sim3_h5op, tool_sys\n",
    "\n",
    "top_folder = tool_sys.get_work_folder() + \"/experiment_iddn_paper/\"\n"
   ],
   "outputs": [],
   "execution_count": null
  },
  {
   "metadata": {},
   "cell_type": "code",
   "source": [
    "def shift_net(gene_type, gene_par, n_shift):\n",
    "    gene_type_shift = dict()\n",
    "    gene_par_shift = dict()\n",
    "    for key in gene_type.keys():\n",
    "        gene_type_shift[key+n_shift] = gene_type[key]\n",
    "        par_shift = []\n",
    "        for par in gene_par[key]:\n",
    "            par_shift.append(par+n_shift)\n",
    "        gene_par_shift[key+n_shift] = par_shift\n",
    "    return gene_type_shift, gene_par_shift\n"
   ],
   "id": "40c3a28ecc73847a",
   "outputs": [],
   "execution_count": null
  },
  {
   "metadata": {},
   "cell_type": "code",
   "source": [
    "n_net = 2\n",
    "n_hub_regulator = 1\n",
    "n_secondary_regulator = 15\n",
    "n_other_genes = 10\n",
    "two_condition_ratio = 0.25\n",
    "n_sample_gen = 10000\n",
    "\n",
    "reload(nett)\n",
    "gene_type = dict()\n",
    "gene_par = dict()\n",
    "for n in range(n_net):\n",
    "    gene_type0, gene_par0, regulator_weight0 = nett.create_gene_network(\n",
    "        n_hub_regulator=n_hub_regulator,\n",
    "        n_secondary_regulator=n_secondary_regulator,\n",
    "        n_other_genes=n_other_genes,\n",
    "        wt_top_regulator=1,\n",
    "    )\n",
    "    gene_type_shift, gene_par_shift = shift_net(gene_type0, gene_par0, len(gene_type))\n",
    "    gene_type.update(gene_type_shift)\n",
    "    gene_par.update(gene_par_shift)\n"
   ],
   "id": "eacf3becf7e1a2de",
   "outputs": [],
   "execution_count": null
  },
  {
   "metadata": {},
   "cell_type": "code",
   "source": [
    "mol_layer, mol_par, mol_par_roles, mol_type = nett.create_mol_network(gene_type, gene_par)\n",
    "idx_layer, idx_par, idx_par_roles, mol2idx, idx2mol, layer_cnt = nett.mol_network_to_index(mol_layer, mol_par, mol_par_roles)\n",
    "net_info, dep_mat, con_mat = nett.prep_net_for_sim(\n",
    "    mol_layer,\n",
    "    mol_par,\n",
    "    mol_par_roles,\n",
    "    mol_type=None,\n",
    ")\n",
    "\n",
    "dep_mat_null = np.ones_like(dep_mat)\n",
    "reload(nett)\n",
    "dep_mat_prior, dep_mat_prior_loose = nett.make_iddn_dep_prior(mol_type, net_info[\"mol2idx\"])\n",
    "\n",
    "idx = np.random.randint(1000000)\n",
    "exp_name = (\n",
    "    f\"sim3_tf_mrna_mirna_n_{len(con_mat)}\"\n",
    "    f\"_ratio_{two_condition_ratio}_{idx}\"\n",
    ")"
   ],
   "id": "241bf578404ccc9c",
   "outputs": [],
   "execution_count": null
  },
  {
   "metadata": {},
   "cell_type": "code",
   "source": [
    "import networkx as nx\n",
    "G1 = nx.from_numpy_array(con_mat)\n",
    "nx.draw_networkx(G1, node_size=10, with_labels=False)"
   ],
   "id": "eabc4a703e2bade7",
   "outputs": [],
   "execution_count": null
  },
  {
   "metadata": {},
   "cell_type": "markdown",
   "source": "## Steady state simulation",
   "id": "3abe17b4d86d4edf"
  },
  {
   "metadata": {},
   "cell_type": "code",
   "source": [
    "if 0:\n",
    "    mol_par1, mol_par2, mol_par_roles1, mol_par_roles2 = nett.make_two_conditions_mol_net(\n",
    "        mol_par,\n",
    "        mol_par_roles,\n",
    "        ratio=two_condition_ratio,\n",
    "    )\n",
    "\n",
    "    net_info1, dep_mat1, con_mat1 = nett.prep_net_for_sim(\n",
    "        mol_layer,\n",
    "        mol_par1,\n",
    "        mol_par_roles1,\n",
    "        mol_type=None,\n",
    "    )\n",
    "    net_info2, dep_mat2, con_mat2 = nett.prep_net_for_sim(\n",
    "        mol_layer,\n",
    "        mol_par2,\n",
    "        mol_par_roles2,\n",
    "        mol_type=None,\n",
    "    )\n",
    "    \n",
    "    comm_gt, diff_gt = tools.get_common_diff_net_topo([con_mat1, con_mat2])\n",
    "    sigma_mid_vec = np.zeros(len(mol_layer)) + 2.0\n",
    "    # sigma_mid_vec = np.random.uniform(low=0.5, high=2.5, size=len(mol_layer))\n",
    "    \n",
    "    sigma_in = 2.0\n",
    "    hill_coef = 1.0\n",
    "    \n",
    "    dat1, state_history1, noise_history1 = sim3_steady_state_batch.run_sim(\n",
    "        net_info1[\"idx_layer\"],\n",
    "        net_info1[\"idx_par\"],\n",
    "        net_info1[\"idx_par_roles\"],\n",
    "        n_sample=n_sample_gen,\n",
    "        n_max_steps=100,\n",
    "        method=\"steady\",\n",
    "        sigma_in=sigma_in,\n",
    "        sigma_mid=sigma_mid_vec,\n",
    "        hill_coef=hill_coef,\n",
    "    )\n",
    "    dat2, state_history2, noise_history2 = sim3_steady_state_batch.run_sim(\n",
    "        net_info2[\"idx_layer\"],\n",
    "        net_info2[\"idx_par\"],\n",
    "        net_info2[\"idx_par_roles\"],\n",
    "        n_sample=n_sample_gen,\n",
    "        n_max_steps=100,\n",
    "        method=\"steady\",\n",
    "        sigma_in=sigma_in,\n",
    "        sigma_mid=sigma_mid_vec,\n",
    "        hill_coef=hill_coef,\n",
    "    )"
   ],
   "id": "b1eec9224c08d6a2",
   "outputs": [],
   "execution_count": null
  },
  {
   "metadata": {},
   "cell_type": "code",
   "source": [
    "reload(sim3_h5op)\n",
    "if 0:\n",
    "    dat_file = f\"{top_folder}/sim_input/{exp_name}.hdf5\"\n",
    "    sim3_h5op.make_new_sim_data(\n",
    "        dat_file,\n",
    "        dat1,\n",
    "        dat2,\n",
    "        con_mat1,\n",
    "        con_mat2,\n",
    "        comm_gt=comm_gt,\n",
    "        diff_gt=diff_gt,\n",
    "        dep_mat_null=dep_mat_null,\n",
    "        dep_mat_prior=dep_mat_prior,\n",
    "        dep_mat_prior_loose=dep_mat_prior,\n",
    "        mol_names=list(idx2mol.values()),  # names with same order as data\n",
    "        layer_count=net_info1[\"layer_count\"],\n",
    "    )\n",
    "    print(exp_name)"
   ],
   "id": "a70741c99a7dcff5",
   "outputs": [],
   "execution_count": null
  },
  {
   "metadata": {},
   "cell_type": "markdown",
   "source": "## GGM simulation",
   "id": "20adafa9f297769f"
  },
  {
   "metadata": {},
   "cell_type": "code",
   "source": "# plt.imshow(con_mat1)",
   "id": "c4bf098ef80e48d5",
   "outputs": [],
   "execution_count": null
  },
  {
   "metadata": {},
   "cell_type": "code",
   "source": [
    "# cc1 = np.corrcoef(dat1.T)\n",
    "# omega_org1 = np.linalg.inv(cc1)\n",
    "# omega1 = np.copy(omega_org1)\n",
    "# omega1[np.abs(omega_org1) < 0.1] = 0\n",
    "# plt.imshow(np.abs(omega1)>0)"
   ],
   "id": "4929c73e164645e7",
   "outputs": [],
   "execution_count": null
  },
  {
   "metadata": {},
   "cell_type": "code",
   "source": [
    "# omega1_x = np.copy(omega1)\n",
    "# omega1_x[np.arange(len(omega1_x)), np.arange(len(omega1_x))] = 0\n",
    "# plt.imshow(np.abs(omega1_x))"
   ],
   "id": "35ce8c829f05ad9a",
   "outputs": [],
   "execution_count": null
  },
  {
   "metadata": {},
   "cell_type": "code",
   "source": [
    "# cc2 = np.corrcoef(dat2.T)\n",
    "# omega_org2 = np.linalg.inv(cc2)\n",
    "# omega2 = np.copy(omega_org2)\n",
    "# omega2[np.abs(omega_org2) < 0.1] = 0"
   ],
   "id": "2f360d32a486dd2",
   "outputs": [],
   "execution_count": null
  },
  {
   "metadata": {},
   "cell_type": "code",
   "source": [
    "from ddn3 import simulation\n",
    "from ddn3_extra import simulation_r\n",
    "\n",
    "# def mod_omega(omega):\n",
    "#     # omega = np.copy(con_mat)\n",
    "#     xx = np.maximum(np.sum(omega, axis=0)[:] + np.sum(omega, axis=1)[:], 1.0)\n",
    "#     omega[np.arange(len(omega)), np.arange(len(omega))] = xx\n",
    "#     eigx, _ = np.linalg.eig(omega)\n",
    "#     print(np.min(np.real(eigx)))\n",
    "#     # omega, _ = simulation_r.make_two_from_one(\n",
    "#     #     omega, ratio_diff=0, verbose=True)\n",
    "#     return omega\n",
    "# \n",
    "# omega1 = mod_omega(1*(con_mat1>0))\n",
    "# omega2 = mod_omega(1*(con_mat2>0))\n",
    "\n",
    "omega = np.copy(1*(con_mat>0))\n",
    "xx = np.maximum(np.sum(omega, axis=0)[:] + np.sum(omega, axis=1)[:], 1.0)\n",
    "omega[np.arange(len(omega)), np.arange(len(omega))] = xx\n",
    "\n",
    "dep_in = dep_mat_prior + dep_mat_prior.T\n",
    "reload(simulation_r)\n",
    "omega1, omega2 = simulation_r.make_two_from_one(omega, dep_in, ratio_diff=0.25, verbose=True)\n"
   ],
   "id": "e8e3da15a4a1c908",
   "outputs": [],
   "execution_count": null
  },
  {
   "metadata": {},
   "cell_type": "code",
   "source": [
    "cov1x, omega1x = simulation.create_cov_prec_mat(omega1)\n",
    "cov2x, omega2x = simulation.create_cov_prec_mat(omega2)\n",
    "g1_cov, g2_cov, comm_gt_g, diff_gt_g = simulation.prep_sim_from_two_omega(omega1, omega2)\n",
    "con_mat1 = 1 * (np.abs(omega1) > 1e-8)\n",
    "con_mat2 = 1 * (np.abs(omega2) > 1e-8)\n",
    "n_node = len(omega1)\n",
    "con_mat1[np.arange(n_node), np.arange(n_node)] = 0\n",
    "con_mat2[np.arange(n_node), np.arange(n_node)] = 0\n",
    "\n",
    "dat1_g, dat2_g = simulation.gen_sample_two_conditions(g1_cov, g2_cov, n_sample_gen, n_sample_gen)\n"
   ],
   "id": "60cbaee70b50730a",
   "outputs": [],
   "execution_count": null
  },
  {
   "metadata": {},
   "cell_type": "code",
   "source": [
    "f_out = f\"{exp_name}_ggm\"\n",
    "dat_file_g = f\"{top_folder}/sim_input/{f_out}.hdf5\"\n",
    "\n",
    "if 1:\n",
    "    sim3_h5op.make_new_sim_data(\n",
    "        dat_file_g,\n",
    "        dat1_g,\n",
    "        dat2_g,\n",
    "        con_mat1,\n",
    "        con_mat2,\n",
    "        comm_gt=comm_gt_g,\n",
    "        diff_gt=diff_gt_g,\n",
    "        dep_mat_null=dep_mat_null,\n",
    "        dep_mat_prior=dep_mat_prior,\n",
    "        dep_mat_prior_loose=dep_mat_prior_loose,\n",
    "        mol_names=list(idx2mol.values()),\n",
    "        layer_count=layer_cnt,\n",
    "    )\n",
    "    print(f_out)\n"
   ],
   "id": "d72d6c24e2457cb1",
   "outputs": [],
   "execution_count": null
  },
  {
   "metadata": {},
   "cell_type": "code",
   "source": [
    "fig, ax = plt.subplots(1,2,figsize=(15, 6))\n",
    "print(np.mean(np.abs(g1_cov)))\n",
    "print(np.mean(np.abs(g2_cov)))\n",
    "\n",
    "# im0 = ax[0].imshow(omega1, cmap=\"bwr\")\n",
    "# im1 = ax[1].imshow(omega2, cmap=\"bwr\")\n",
    "im0 = ax[0].imshow(g1_cov, cmap=\"bwr\")\n",
    "im1 = ax[1].imshow(g2_cov, cmap=\"bwr\")\n",
    "# im0.set_clim(-0.4,0.4)\n",
    "# im1.set_clim(-0.4,0.4)\n",
    "im0.set_clim(-1,1)\n",
    "im1.set_clim(-1,1)\n",
    "fig.colorbar(im0, ax=ax[0])\n",
    "fig.colorbar(im1, ax=ax[1])"
   ],
   "id": "af54b5f6bb2d2dc4",
   "outputs": [],
   "execution_count": null
  },
  {
   "metadata": {},
   "cell_type": "markdown",
   "source": "## Debug",
   "id": "4484f8e7f642f832"
  },
  {
   "metadata": {},
   "cell_type": "code",
   "source": "# plt.imshow(dep_mat_prior)",
   "id": "2e6a16eb0ece5af",
   "outputs": [],
   "execution_count": null
  }
 ],
 "metadata": {
  "kernelspec": {
   "display_name": "Python 3",
   "language": "python",
   "name": "python3"
  },
  "language_info": {
   "codemirror_mode": {
    "name": "ipython",
    "version": 2
   },
   "file_extension": ".py",
   "mimetype": "text/x-python",
   "name": "python",
   "nbconvert_exporter": "python",
   "pygments_lexer": "ipython2",
   "version": "2.7.6"
  }
 },
 "nbformat": 4,
 "nbformat_minor": 5
}
