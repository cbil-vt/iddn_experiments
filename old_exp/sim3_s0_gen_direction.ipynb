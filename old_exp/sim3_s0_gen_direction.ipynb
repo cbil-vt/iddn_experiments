{
 "cells": [
  {
   "metadata": {},
   "cell_type": "markdown",
   "source": "# Any benefits using direction constraints?",
   "id": "96a0bf8459661bf2"
  },
  {
   "cell_type": "code",
   "id": "initial_id",
   "metadata": {
    "collapsed": true,
    "ExecuteTime": {
     "end_time": "2024-07-30T19:59:02.577401Z",
     "start_time": "2024-07-30T19:58:54.703065Z"
    }
   },
   "source": [
    "import numpy as np\n",
    "import networkx as nx\n",
    "from importlib import reload\n",
    "from iddn_paper import sim3_h5op, tool_sys, sim3_network_toy\n",
    "from iddn_paper.old_functions import sim0_synthetic_wang"
   ],
   "outputs": [],
   "execution_count": 1
  },
  {
   "metadata": {},
   "cell_type": "markdown",
   "source": [
    "A bipartite graph, nodes on the left side is a directed scale free graph. \n",
    "Point to the right side. Under what condition it will be harmful to ignore directions."
   ],
   "id": "a99db9d787e0a09"
  },
  {
   "metadata": {},
   "cell_type": "code",
   "source": [
    "# reload(sim0_synthetic_wang)\n",
    "# n_node = 100\n",
    "# G = sim0_synthetic_wang.barabasi_albert_digraph(n_node, m_min=1, m_max=1, n_input=1, rep_init=1)\n",
    "# tf_tf_mat = 1 * (nx.adjacency_matrix(G).todense() > 0)\n",
    "# tf_tf_mat[np.arange(n_node), np.arange(n_node)] = 0\n",
    "# G = nx.scale_free_graph(n_node)\n",
    "# nx.draw(G)\n",
    "# xx = np.random.randn(5,5)\n",
    "# (np.tril(xx, -1))\n"
   ],
   "id": "32e30b7e1c359e36",
   "outputs": [],
   "execution_count": null
  },
  {
   "metadata": {
    "ExecuteTime": {
     "end_time": "2024-07-30T20:02:17.351877Z",
     "start_time": "2024-07-30T19:59:14.838071Z"
    }
   },
   "cell_type": "code",
   "source": [
    "n1 = 100\n",
    "n2 = 150\n",
    "\n",
    "dat1_lst = []\n",
    "dat2_lst = []\n",
    "con_mat1_lst = []\n",
    "con_mat2_lst = []\n",
    "comm_gt_lst = []\n",
    "diff_gt_lst = []\n",
    "dep_mat_prior_lst = []\n",
    "dep_mat_prior_loose_lst = []\n",
    "omega1_lst = []\n",
    "omega2_lst = []\n",
    "layer_count = np.array([n1, n2])\n",
    "adj_mat1_lst = []\n",
    "adj_mat2_lst = []\n",
    "\n",
    "n_rep = 50\n",
    "\n",
    "for n in range(n_rep):\n",
    "    # The TF scale free graph\n",
    "    # The matrix is upper triangular\n",
    "    G = sim0_synthetic_wang.barabasi_albert_digraph(n1, m_min=1, m_max=1, n_input=1, rep_init=1)\n",
    "    tf_tf_mat = 1 * (nx.adjacency_matrix(G).todense() > 0)\n",
    "    tf_tf_mat[np.arange(n1), np.arange(n1)] = 0    \n",
    "\n",
    "    # The TF gene to other gene edges\n",
    "    regu_mat = np.zeros((n1, n2))\n",
    "    for i in range(n2):\n",
    "        parent = np.random.choice(n1, 5, replace=False)\n",
    "        regu_mat[parent,i] = 1\n",
    "\n",
    "    # Overall network\n",
    "    n12 = n1 + n2\n",
    "    adj_mat = np.zeros((n12, n12))\n",
    "    adj_mat[:n1,:n1] = tf_tf_mat\n",
    "    adj_mat[:n1,n1:] = regu_mat\n",
    "\n",
    "    dep_mat_prior = np.zeros((n12, n12))\n",
    "    dep_mat_prior[:n1,:] = 1\n",
    "    \n",
    "    # Make two undirected version as two conditions\n",
    "    dep_mat_prior_loose = 1*((dep_mat_prior + dep_mat_prior.T)>0)\n",
    "    con_mat = 1*((adj_mat + adj_mat.T)>0)\n",
    "    dat1, dat2, con_mat1, con_mat2, comm_gt, diff_gt, om1, om2 = sim3_network_toy.post_process(\n",
    "        con_mat, dep_mat_prior=dep_mat_prior, \n",
    "        ratio_diff=0.25, make_diff=\"remove\", \n",
    "        diag_scale=None, ratio_diag=0.8\n",
    "    )\n",
    "\n",
    "    # Back to directed version\n",
    "    # Use it for simulation on directed graph\n",
    "    adj_mat1 = np.triu(con_mat1)\n",
    "    adj_mat1[n1:,:] = 0\n",
    "    adj_mat2 = np.triu(con_mat2)\n",
    "    adj_mat2[n1:,:] = 0\n",
    "\n",
    "    dat1_lst.append(dat1)\n",
    "    dat2_lst.append(dat2)\n",
    "    con_mat1_lst.append(con_mat1)\n",
    "    con_mat2_lst.append(con_mat2)\n",
    "    comm_gt_lst.append(comm_gt)\n",
    "    diff_gt_lst.append(diff_gt)\n",
    "    dep_mat_prior_lst.append(dep_mat_prior)\n",
    "    dep_mat_prior_loose_lst.append(dep_mat_prior_loose)\n",
    "    omega1_lst.append(om1)\n",
    "    omega2_lst.append(om2)\n",
    "    adj_mat1_lst.append(adj_mat1)\n",
    "    adj_mat2_lst.append(adj_mat2)\n",
    "\n",
    "dep_mat_prior = np.array(dep_mat_prior_lst)\n",
    "dep_mat_prior_loose = np.array(dep_mat_prior_loose_lst)"
   ],
   "id": "735d8cbb1ab9f1ab",
   "outputs": [
    {
     "name": "stdout",
     "output_type": "stream",
     "text": [
      "Smallest eigen values  0.4537929421842978 (0.4629811948945235+0j)\n",
      "Smallest eigen values  0.4217136459994748 0.37247539053344825\n",
      "Smallest eigen values  0.5005664158810905 0.2854587438029894\n",
      "Smallest eigen values  0.4507061114194293 (0.41052064675363115+0j)\n",
      "Smallest eigen values  0.24055625815513076 0.043722232180836484\n",
      "Smallest eigen values  0.36992032061533164 0.34531538454546684\n",
      "Smallest eigen values  0.4145279047152862 0.7120961383299207\n",
      "Smallest eigen values  0.3024096217372545 0.2783625091411785\n",
      "Smallest eigen values  (0.35923564719909784+0j) 0.4514090825125418\n",
      "Smallest eigen values  (0.4034224752972131+0j) 0.4574245406678142\n",
      "Smallest eigen values  0.35422824685799337 0.20368350681240383\n",
      "Smallest eigen values  (0.5656065975502766+0j) 0.6892143780047177\n",
      "Smallest eigen values  (0.3517567545154164+0j) 0.3751579995152144\n",
      "Smallest eigen values  0.25877875770198616 0.7600855655930348\n",
      "Smallest eigen values  0.5008256988426969 0.3299993762454\n",
      "Smallest eigen values  0.4241922416503452 0.5278235967846603\n",
      "Smallest eigen values  (0.5489345192125678+0j) 0.5108261277598496\n",
      "Smallest eigen values  0.4786517615695426 0.02659569068050858\n",
      "Smallest eigen values  0.37661355061820473 0.5110856661116925\n",
      "Smallest eigen values  0.36614203094294756 0.6256793005831109\n",
      "Smallest eigen values  0.45325838481797925 (0.2573739546941854+0j)\n",
      "Smallest eigen values  (0.33317615333482264+0j) 0.5218166342389416\n",
      "Smallest eigen values  0.500568357514048 0.4110983161618549\n",
      "Smallest eigen values  0.4566511845826958 0.19335475095353338\n",
      "Smallest eigen values  0.25314152550345237 (0.35140725055862754+0j)\n",
      "Smallest eigen values  0.44564509566340876 0.5230746217479392\n",
      "Smallest eigen values  0.4609794265003512 0.5250462539614589\n",
      "Smallest eigen values  0.4886087412502569 0.4021976379602966\n",
      "Smallest eigen values  0.33798864652237376 0.5803661155248996\n",
      "Smallest eigen values  0.5049899335279855 0.6144088815255542\n",
      "Smallest eigen values  0.5028589281549207 (0.5417619041735495+0j)\n",
      "Smallest eigen values  (0.578524268039553+0j) 0.3735855896937319\n",
      "Smallest eigen values  0.17578537849593037 0.3608137135682991\n",
      "Smallest eigen values  0.41026904581217694 0.42563919620369156\n",
      "Smallest eigen values  (0.271095070091924+0j) 0.532384539822333\n",
      "Smallest eigen values  0.4713132489790688 0.3646313819429824\n",
      "Smallest eigen values  0.5346960366089711 0.3481879829248632\n",
      "Smallest eigen values  0.3787581959571735 (0.35042269243319724+0j)\n",
      "Smallest eigen values  (0.5600729967817969+0j) 0.3656827028112695\n",
      "Smallest eigen values  0.49885253844446353 0.4176467350324108\n",
      "Smallest eigen values  (0.2074585540740106+0j) 0.5929867102712231\n",
      "Smallest eigen values  (0.24911433922026335+0j) 0.45248265350499\n",
      "Smallest eigen values  (0.4234314797374381+0j) 0.4222806697101992\n",
      "Smallest eigen values  0.4137300607175133 0.35642058608000593\n",
      "Smallest eigen values  0.3786810338323363 0.019842154752968244\n",
      "Smallest eigen values  (0.4728858859363457+0j) 0.509836441116992\n",
      "Smallest eigen values  (0.14215344825289247+0j) 0.6743481876321606\n",
      "Smallest eigen values  0.562598203919471 0.7091512285987402\n",
      "Smallest eigen values  0.4436051239228794 0.476252576499354\n",
      "Smallest eigen values  0.6980422991460896 0.6092808695646261\n"
     ]
    }
   ],
   "execution_count": 2
  },
  {
   "metadata": {},
   "cell_type": "markdown",
   "source": "GGM version",
   "id": "8dcb6055abbc0c12"
  },
  {
   "metadata": {
    "ExecuteTime": {
     "end_time": "2024-07-30T20:12:44.427839Z",
     "start_time": "2024-07-30T20:12:39.063773Z"
    }
   },
   "cell_type": "code",
   "source": [
    "idx = np.random.randint(1000000)\n",
    "f_out = f\"sim3_direction_two_layer_batch_{idx}_ggm\"\n",
    "dat_file = tool_sys.get_work_folder() + f\"/experiment_iddn_paper/sim_input/{f_out}.hdf5\"\n",
    "sim3_h5op.make_new_sim_data(\n",
    "    dat_file,\n",
    "    dat1=np.array(dat1_lst),\n",
    "    dat2=np.array(dat2_lst),\n",
    "    con_mat1=np.array(con_mat1_lst),\n",
    "    con_mat2=np.array(con_mat2_lst),\n",
    "    comm_gt=np.array(comm_gt_lst),\n",
    "    diff_gt=np.array(diff_gt_lst),\n",
    "    dep_mat_null=np.ones_like(dep_mat_prior),\n",
    "    dep_mat_prior=dep_mat_prior,\n",
    "    dep_mat_prior_loose=dep_mat_prior_loose,\n",
    "    layer_count=layer_count,\n",
    ")\n",
    "print(f_out)"
   ],
   "id": "eaee03c7390d2a46",
   "outputs": [
    {
     "name": "stdout",
     "output_type": "stream",
     "text": [
      "sim3_direction_two_layer_batch_428416_ggm\n"
     ]
    }
   ],
   "execution_count": 3
  },
  {
   "metadata": {},
   "cell_type": "markdown",
   "source": "Linear flow version",
   "id": "9a8c5a2bc4cc8cdb"
  },
  {
   "metadata": {
    "ExecuteTime": {
     "end_time": "2024-07-30T20:13:00.772585Z",
     "start_time": "2024-07-30T20:12:47.438246Z"
    }
   },
   "cell_type": "code",
   "source": [
    "reload(sim0_synthetic_wang)\n",
    "\n",
    "dat1_lst_lin = []\n",
    "dat2_lst_lin = []\n",
    "for n in range(n_rep):\n",
    "    adj_mat1 = adj_mat1_lst[n]\n",
    "    adj_mat2 = adj_mat2_lst[n]\n",
    "    dat1 = sim0_synthetic_wang.sim_steady_state_linear(adj_mat1, 500)\n",
    "    dat2 = sim0_synthetic_wang.sim_steady_state_linear(adj_mat2, 500)\n",
    "    dat1_lst_lin.append(dat1)\n",
    "    dat2_lst_lin.append(dat2)\n"
   ],
   "id": "b06186c2edf54233",
   "outputs": [
    {
     "name": "stdout",
     "output_type": "stream",
     "text": [
      "5 250.0\n",
      "5 250.0\n",
      "5 250.0\n",
      "6 250.0\n",
      "7 250.0\n",
      "4 250.0\n",
      "7 250.0\n",
      "6 250.0\n",
      "5 250.0\n",
      "6 250.0\n",
      "4 250.0\n",
      "4 250.0\n",
      "5 250.0\n",
      "5 250.0\n",
      "5 250.0\n",
      "6 250.0\n",
      "6 250.0\n",
      "5 250.0\n",
      "6 250.0\n",
      "8 250.0\n",
      "5 250.0\n",
      "5 250.0\n",
      "5 250.0\n",
      "6 250.0\n",
      "5 250.0\n",
      "5 250.0\n",
      "5 250.0\n",
      "5 250.0\n",
      "6 250.0\n",
      "6 250.0\n",
      "5 250.0\n",
      "4 250.0\n",
      "7 250.0\n",
      "6 250.0\n",
      "5 250.0\n",
      "5 250.0\n",
      "5 250.0\n",
      "5 250.0\n",
      "4 250.0\n",
      "4 250.0\n",
      "4 250.0\n",
      "5 250.0\n",
      "5 250.0\n",
      "7 250.0\n",
      "6 250.0\n",
      "7 250.0\n",
      "7 250.0\n",
      "5 250.0\n",
      "5 250.0\n",
      "5 250.0\n",
      "5 250.0\n",
      "5 250.0\n",
      "6 250.0\n",
      "5 250.0\n",
      "5 250.0\n",
      "5 250.0\n",
      "5 250.0\n",
      "4 250.0\n",
      "5 250.0\n",
      "6 250.0\n",
      "6 250.0\n",
      "5 250.0\n",
      "4 250.0\n",
      "5 250.0\n",
      "6 250.0\n",
      "7 250.0\n",
      "6 250.0\n",
      "5 250.0\n",
      "5 250.0\n",
      "5 250.0\n",
      "4 250.0\n",
      "5 250.0\n",
      "5 250.0\n",
      "7 250.0\n",
      "5 250.0\n",
      "5 250.0\n",
      "6 250.0\n",
      "5 250.0\n",
      "5 250.0\n",
      "5 250.0\n",
      "5 250.0\n",
      "5 250.0\n",
      "5 250.0\n",
      "4 250.0\n",
      "5 250.0\n",
      "5 250.0\n",
      "6 250.0\n",
      "6 250.0\n",
      "6 250.0\n",
      "4 250.0\n",
      "5 250.0\n",
      "5 250.0\n",
      "5 250.0\n",
      "4 250.0\n",
      "5 250.0\n",
      "5 250.0\n",
      "5 250.0\n",
      "5 250.0\n",
      "5 250.0\n",
      "5 250.0\n"
     ]
    }
   ],
   "execution_count": 4
  },
  {
   "metadata": {
    "ExecuteTime": {
     "end_time": "2024-07-30T20:14:19.695986Z",
     "start_time": "2024-07-30T20:14:14.199156Z"
    }
   },
   "cell_type": "code",
   "source": [
    "f_out = f\"sim3_direction_two_layer_batch_{idx}_lin\"\n",
    "dat_file = tool_sys.get_work_folder() + f\"/experiment_iddn_paper/sim_input/{f_out}.hdf5\"\n",
    "sim3_h5op.make_new_sim_data(\n",
    "    dat_file,\n",
    "    dat1=np.array(dat1_lst_lin),\n",
    "    dat2=np.array(dat2_lst_lin),\n",
    "    con_mat1=np.array(con_mat1_lst),\n",
    "    con_mat2=np.array(con_mat2_lst),\n",
    "    comm_gt=np.array(comm_gt_lst),\n",
    "    diff_gt=np.array(diff_gt_lst),\n",
    "    dep_mat_null=np.ones_like(dep_mat_prior),\n",
    "    dep_mat_prior=dep_mat_prior,\n",
    "    dep_mat_prior_loose=dep_mat_prior_loose,\n",
    "    layer_count=layer_count,\n",
    ")\n",
    "print(f_out)"
   ],
   "id": "8a77f9977a7c1b97",
   "outputs": [
    {
     "name": "stdout",
     "output_type": "stream",
     "text": [
      "sim3_direction_two_layer_batch_428416_lin\n"
     ]
    }
   ],
   "execution_count": 6
  },
  {
   "metadata": {
    "ExecuteTime": {
     "end_time": "2024-07-30T20:49:10.556120Z",
     "start_time": "2024-07-30T20:49:10.550788Z"
    }
   },
   "cell_type": "code",
   "source": "",
   "id": "ce87b7e767626b69",
   "outputs": [],
   "execution_count": 8
  },
  {
   "metadata": {},
   "cell_type": "code",
   "source": [
    "# adj_mat1 = adj_mat1_lst[0]\n",
    "# dat1 = sim0_synthetic_wang.sim_steady_state_linear(adj_mat1, 500)\n",
    "# cc = np.corrcoef(dat1.T)\n",
    "# ccinv = np.linalg.inv(cc)\n",
    "# plt.imshow(np.abs(ccinv))\n",
    "# plt.clim([0,2])"
   ],
   "id": "bd59b91bc41fdcf3",
   "outputs": [],
   "execution_count": null
  },
  {
   "metadata": {},
   "cell_type": "markdown",
   "source": "Non-linear flow version",
   "id": "c00318243c304ae7"
  },
  {
   "metadata": {},
   "cell_type": "code",
   "source": "",
   "id": "2b0821d94b9b1a6b",
   "outputs": [],
   "execution_count": null
  }
 ],
 "metadata": {
  "kernelspec": {
   "display_name": "Python 3",
   "language": "python",
   "name": "python3"
  },
  "language_info": {
   "codemirror_mode": {
    "name": "ipython",
    "version": 2
   },
   "file_extension": ".py",
   "mimetype": "text/x-python",
   "name": "python",
   "nbconvert_exporter": "python",
   "pygments_lexer": "ipython2",
   "version": "2.7.6"
  }
 },
 "nbformat": 4,
 "nbformat_minor": 5
}
